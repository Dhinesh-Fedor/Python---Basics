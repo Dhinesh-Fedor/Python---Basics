{
  "nbformat": 4,
  "nbformat_minor": 0,
  "metadata": {
    "colab": {
      "provenance": [],
      "authorship_tag": "ABX9TyND2nWnqjYc2gNn2P0b5nvH",
      "include_colab_link": true
    },
    "kernelspec": {
      "name": "python3",
      "display_name": "Python 3"
    },
    "language_info": {
      "name": "python"
    }
  },
  "cells": [
    {
      "cell_type": "markdown",
      "metadata": {
        "id": "view-in-github",
        "colab_type": "text"
      },
      "source": [
        "<a href=\"https://colab.research.google.com/github/Dhinesh-Fedor/Python---Basics/blob/main/Python_Basics_4.ipynb\" target=\"_parent\"><img src=\"https://colab.research.google.com/assets/colab-badge.svg\" alt=\"Open In Colab\"/></a>"
      ]
    },
    {
      "cell_type": "code",
      "execution_count": 7,
      "metadata": {
        "colab": {
          "base_uri": "https://localhost:8080/"
        },
        "id": "xzNlvnxHpdKq",
        "outputId": "c2129602-4290-4ac7-9479-65afbef48daa"
      },
      "outputs": [
        {
          "output_type": "stream",
          "name": "stdout",
          "text": [
            "a\n",
            "b\tc\n",
            "a\u0000b\u0000c\n",
            "\u0001\u0002\u0003\n",
            "C:\\abc\\bcd\n",
            "\u0001\u0002\u0003\n",
            "C:\\sample\\spam.txt\n",
            "LOL!!!LOL!!!LOL!!!LOL!!!LOL!!!\n",
            "h e c k e r "
          ]
        }
      ],
      "source": [
        "from re import S\n",
        "#string operations\n",
        "\n",
        "a = \"a\\nb\\tc\"\n",
        "\n",
        "print(a)\n",
        "\n",
        "#to find the length len() method is used\n",
        "len(a)\n",
        "\n",
        "a1 = 'a\\0b\\0c'\n",
        "print(a1)\n",
        "len(a1)\n",
        "\n",
        "s = \"\\x01\\x02\\x03\"\n",
        "print(s)\n",
        "len(s)\n",
        "\n",
        "x = 'C:\\\\abc\\\\bcd' #to print '\\' as a character\n",
        "print(x)\n",
        "len(x)\n",
        "\n",
        "#to specify path\n",
        "p = \"C:\\sample\\spam.txt\"\n",
        "print(s)\n",
        "\n",
        "#or\n",
        "\n",
        "p1 = r'C:\\sample\\spam.txt'\n",
        "print(p1)\n",
        "len(p1)\n",
        "\n",
        "#multiple strings\n",
        "c = \"LOL!!!\" * 5\n",
        "print(c)\n",
        "\n",
        "r = \"hecker\"\n",
        "\n",
        "for i in r:\n",
        "  print(i,end = ' ')\n",
        "\n",
        "\n",
        "\n"
      ]
    },
    {
      "cell_type": "code",
      "source": [
        "#using in operator\n",
        "#in => returns boolean values\n",
        "\n",
        "r = 'hecker'\n",
        "'a' in r\n"
      ],
      "metadata": {
        "colab": {
          "base_uri": "https://localhost:8080/"
        },
        "id": "RE-0JfCAshQc",
        "outputId": "4599fb4d-dd43-4ebd-e6d3-e21a378082a6"
      },
      "execution_count": 8,
      "outputs": [
        {
          "output_type": "execute_result",
          "data": {
            "text/plain": [
              "False"
            ]
          },
          "metadata": {},
          "execution_count": 8
        }
      ]
    },
    {
      "cell_type": "code",
      "source": [
        "#counting the number of a particular string\n",
        "\n",
        "s = 'hecker'\n",
        "\n",
        "\n",
        "count = 0\n",
        "\n",
        "for i in s:\n",
        " if(i == 'e'):\n",
        "    count= count+1\n",
        "\n",
        "print('count = ',count)"
      ],
      "metadata": {
        "colab": {
          "base_uri": "https://localhost:8080/"
        },
        "id": "EaDvUvOrtG1M",
        "outputId": "42ef8c2c-818f-43a6-bb89-a7e8d2f0e156"
      },
      "execution_count": 13,
      "outputs": [
        {
          "output_type": "stream",
          "name": "stdout",
          "text": [
            "count =  2\n"
          ]
        }
      ]
    },
    {
      "cell_type": "code",
      "source": [
        "#indexing and slicing\n"
      ],
      "metadata": {
        "id": "shkL9e-dtv0s"
      },
      "execution_count": null,
      "outputs": []
    }
  ]
}