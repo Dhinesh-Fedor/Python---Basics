{
  "nbformat": 4,
  "nbformat_minor": 0,
  "metadata": {
    "colab": {
      "provenance": [],
      "authorship_tag": "ABX9TyMuKQ24axAQ1lK7kEdcdtCB",
      "include_colab_link": true
    },
    "kernelspec": {
      "name": "python3",
      "display_name": "Python 3"
    },
    "language_info": {
      "name": "python"
    }
  },
  "cells": [
    {
      "cell_type": "markdown",
      "metadata": {
        "id": "view-in-github",
        "colab_type": "text"
      },
      "source": [
        "<a href=\"https://colab.research.google.com/github/Dhinesh-Fedor/Python---Basics/blob/main/Python_Basics_4.ipynb\" target=\"_parent\"><img src=\"https://colab.research.google.com/assets/colab-badge.svg\" alt=\"Open In Colab\"/></a>"
      ]
    },
    {
      "cell_type": "code",
      "execution_count": 4,
      "metadata": {
        "colab": {
          "base_uri": "https://localhost:8080/"
        },
        "id": "xzNlvnxHpdKq",
        "outputId": "2bb2d70b-ea6e-456f-ba99-256ad53d9bf5"
      },
      "outputs": [
        {
          "output_type": "stream",
          "name": "stdout",
          "text": [
            "a\n",
            "b\tc\n",
            "a\u0000b\u0000c\n",
            "\u0001\u0002\u0003\n"
          ]
        },
        {
          "output_type": "execute_result",
          "data": {
            "text/plain": [
              "3"
            ]
          },
          "metadata": {},
          "execution_count": 4
        }
      ],
      "source": [
        "from re import S\n",
        "#string operations\n",
        "\n",
        "a = \"a\\nb\\tc\"\n",
        "\n",
        "print(a)\n",
        "\n",
        "#to find the length len() method is used\n",
        "len(a)\n",
        "\n",
        "a1 = 'a\\0b\\0c'\n",
        "print(a1)\n",
        "len(a1)\n",
        "\n",
        "s = \"\\x01\\x02\\x03\"\n",
        "print(s)\n",
        "len(s)\n",
        "\n",
        "x = 'C:\\\\abc\\\\bcd' #to print '\\' as a character\n",
        "print(x)\n",
        "len(x)\n",
        "\n",
        "#to specify path\n",
        "p = \"C:\\sample\\spam.txt\"\n",
        "print(s)\n",
        "\n",
        "#or\n",
        "\n",
        "p1 = r'C:\\sample\\spam.txt'\n",
        "print(p1)\n",
        "len(p1)\n"
      ]
    }
  ]
}