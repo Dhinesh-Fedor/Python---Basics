{
  "nbformat": 4,
  "nbformat_minor": 0,
  "metadata": {
    "colab": {
      "provenance": [],
      "authorship_tag": "ABX9TyODWbxWBUKvaOhY808X1zAo",
      "include_colab_link": true
    },
    "kernelspec": {
      "name": "python3",
      "display_name": "Python 3"
    },
    "language_info": {
      "name": "python"
    }
  },
  "cells": [
    {
      "cell_type": "markdown",
      "metadata": {
        "id": "view-in-github",
        "colab_type": "text"
      },
      "source": [
        "<a href=\"https://colab.research.google.com/github/Dhinesh-Fedor/Python---Basics/blob/main/Python_Basics_4.ipynb\" target=\"_parent\"><img src=\"https://colab.research.google.com/assets/colab-badge.svg\" alt=\"Open In Colab\"/></a>"
      ]
    },
    {
      "cell_type": "code",
      "execution_count": 7,
      "metadata": {
        "colab": {
          "base_uri": "https://localhost:8080/"
        },
        "id": "xzNlvnxHpdKq",
        "outputId": "c2129602-4290-4ac7-9479-65afbef48daa"
      },
      "outputs": [
        {
          "output_type": "stream",
          "name": "stdout",
          "text": [
            "a\n",
            "b\tc\n",
            "a\u0000b\u0000c\n",
            "\u0001\u0002\u0003\n",
            "C:\\abc\\bcd\n",
            "\u0001\u0002\u0003\n",
            "C:\\sample\\spam.txt\n",
            "LOL!!!LOL!!!LOL!!!LOL!!!LOL!!!\n",
            "h e c k e r "
          ]
        }
      ],
      "source": [
        "from re import S\n",
        "#string operations\n",
        "\n",
        "a = \"a\\nb\\tc\"\n",
        "\n",
        "print(a)\n",
        "\n",
        "#to find the length len() method is used\n",
        "len(a)\n",
        "\n",
        "a1 = 'a\\0b\\0c'\n",
        "print(a1)\n",
        "len(a1)\n",
        "\n",
        "s = \"\\x01\\x02\\x03\"\n",
        "print(s)\n",
        "len(s)\n",
        "\n",
        "x = 'C:\\\\abc\\\\bcd' #to print '\\' as a character\n",
        "print(x)\n",
        "len(x)\n",
        "\n",
        "#to specify path\n",
        "p = \"C:\\sample\\spam.txt\"\n",
        "print(s)\n",
        "\n",
        "#or\n",
        "\n",
        "p1 = r'C:\\sample\\spam.txt'\n",
        "print(p1)\n",
        "len(p1)\n",
        "\n",
        "#multiple strings\n",
        "c = \"LOL!!!\" * 5\n",
        "print(c)\n",
        "\n",
        "r = \"hecker\"\n",
        "\n",
        "for i in r:\n",
        "  print(i,end = ' ')\n",
        "\n",
        "\n",
        "\n"
      ]
    },
    {
      "cell_type": "code",
      "source": [
        "#using in operator\n",
        "#in => returns boolean values\n",
        "\n",
        "r = 'hecker'\n",
        "'a' in r\n"
      ],
      "metadata": {
        "colab": {
          "base_uri": "https://localhost:8080/"
        },
        "id": "RE-0JfCAshQc",
        "outputId": "4599fb4d-dd43-4ebd-e6d3-e21a378082a6"
      },
      "execution_count": 8,
      "outputs": [
        {
          "output_type": "execute_result",
          "data": {
            "text/plain": [
              "False"
            ]
          },
          "metadata": {},
          "execution_count": 8
        }
      ]
    },
    {
      "cell_type": "code",
      "source": [
        "#counting the number of a particular string\n",
        "\n",
        "s = 'hecker'\n",
        "\n",
        "\n",
        "count = 0\n",
        "\n",
        "for i in s:\n",
        " if(i == 'e'):\n",
        "    count= count+1\n",
        "\n",
        "print('count = ',count)"
      ],
      "metadata": {
        "colab": {
          "base_uri": "https://localhost:8080/"
        },
        "id": "EaDvUvOrtG1M",
        "outputId": "42ef8c2c-818f-43a6-bb89-a7e8d2f0e156"
      },
      "execution_count": 13,
      "outputs": [
        {
          "output_type": "stream",
          "name": "stdout",
          "text": [
            "count =  2\n"
          ]
        }
      ]
    },
    {
      "cell_type": "code",
      "source": [
        "#indexing and slicing\n",
        "#syntax => variable[start:end:steps/skips]\n",
        "\n",
        "s = 'hecker'\n",
        "print(s[:4])\n",
        "print(s[:])\n",
        "print(s[:-1])\n",
        "\n",
        "#extended slicing\n",
        "a = '123456789'\n",
        "\n",
        "print(a[::2])\n",
        "print(a[1:6:2])\n",
        "\n",
        "print(s[1:4:2])\n",
        "\n",
        "\n"
      ],
      "metadata": {
        "colab": {
          "base_uri": "https://localhost:8080/"
        },
        "id": "shkL9e-dtv0s",
        "outputId": "17f48492-1577-4798-b479-c4f09cca11ff"
      },
      "execution_count": 22,
      "outputs": [
        {
          "output_type": "stream",
          "name": "stdout",
          "text": [
            "heck\n",
            "hecker\n",
            "hecke\n",
            "13579\n",
            "246\n",
            "ek\n"
          ]
        }
      ]
    },
    {
      "cell_type": "code",
      "source": [
        "#String conversions\n",
        "\n",
        "#a = '1' + 1 throws error coz string can be concatenated only with string not\n",
        "            #with other types\n",
        "\n",
        "b = '1' + '1'\n",
        "print(b)\n",
        "#or\n",
        "c = '1' + str(1) # str() => method, converts integer to string\n",
        "print(c)\n",
        "#or\n",
        "d = int('1') + 1 # int() => method, converts string to integer\n",
        "print(d)\n",
        "\n",
        "\n",
        "#character code conversions\n",
        "\n",
        "#ord() => convert a single character to its respective ASCII code\n",
        "#chr() => convert ASCII to its repective character\n",
        "\n",
        "print(ord('s'))\n",
        "print(chr(115))\n",
        "\n",
        "s = '5'\n",
        "S = chr(ord(s)+1)\n",
        "print(S)\n",
        "\n",
        "\n",
        "print(ord('5') - ord('0')) #returns 5 coz 5-0 = 5\n",
        "\n",
        "\n",
        "print(int(\"1101\",2)) #converts binary to integer. That 2 refers to base value\n",
        "                      #(ie. binary)\n",
        "\n",
        "print(bin(13)) #converts binary to integer\n"
      ],
      "metadata": {
        "colab": {
          "base_uri": "https://localhost:8080/"
        },
        "id": "7ElBKMIpvhgW",
        "outputId": "90fc50cd-0624-470e-c58f-cb188c851ac9"
      },
      "execution_count": 53,
      "outputs": [
        {
          "output_type": "stream",
          "name": "stdout",
          "text": [
            "11\n",
            "11\n",
            "2\n",
            "115\n",
            "s\n",
            "6\n",
            "5\n",
            "13\n",
            "0b1101\n"
          ]
        }
      ]
    },
    {
      "cell_type": "code",
      "source": [
        "#concatenation\n",
        "\n",
        "S  = \"spam\"\n",
        "S = S + \"LOLLLZZZzz\"\n",
        "print(S)\n",
        "\n",
        "#replace\n",
        "r = \"spam\"\n",
        "r = r.replace('am','lot')\n",
        "print(r)"
      ],
      "metadata": {
        "colab": {
          "base_uri": "https://localhost:8080/"
        },
        "id": "cwAhKADIy8uF",
        "outputId": "ff1766eb-b75d-4de5-f769-78e8d652b40d"
      },
      "execution_count": 39,
      "outputs": [
        {
          "output_type": "stream",
          "name": "stdout",
          "text": [
            "spamLOLLLZZZzz\n",
            "splot\n"
          ]
        }
      ]
    },
    {
      "cell_type": "code",
      "source": [
        "#string formatting\n",
        "\n",
        "print(\"That is %d %s bird!!!\"%(1,'dead'))\n",
        "#or\n",
        "print(\"That is {0} {1} bird!!!\".format(1,'dead'))"
      ],
      "metadata": {
        "colab": {
          "base_uri": "https://localhost:8080/"
        },
        "id": "FqrpxbEdz5lM",
        "outputId": "6c12f397-9d13-4fbe-cf6a-480101e0f221"
      },
      "execution_count": 41,
      "outputs": [
        {
          "output_type": "stream",
          "name": "stdout",
          "text": [
            "That is 1 dead bird!!!\n",
            "That is 1 dead bird!!!\n"
          ]
        }
      ]
    },
    {
      "cell_type": "code",
      "source": [
        "#String library\n",
        "greet = 'hello'\n",
        "print(greet.upper())\n",
        "\n",
        "greet1 = 'HELLO'\n",
        "print(greet.lower())\n",
        "\n",
        "\n",
        "#searching a string\n",
        "\n",
        "name = 'beluga'\n",
        "print(name.find('bel'))\n",
        "print(name.find('bel',0,4))\n",
        "\n",
        "print(name.find('z')) # -1 if not found"
      ],
      "metadata": {
        "colab": {
          "base_uri": "https://localhost:8080/"
        },
        "id": "eQu3TUtF0O3H",
        "outputId": "bc0e4f95-4661-4779-dc5d-140cb3019d69"
      },
      "execution_count": 46,
      "outputs": [
        {
          "output_type": "stream",
          "name": "stdout",
          "text": [
            "HELLO\n",
            "hello\n",
            "0\n",
            "0\n",
            "-1\n"
          ]
        }
      ]
    },
    {
      "cell_type": "code",
      "source": [
        "#Other string methods\n",
        "\n",
        "#strip() => removes spaces between the string\n",
        "li = 'The Knight who say NI!!'\n",
        "print(li.strip())\n",
        "\n",
        "#isaplha() => checks for alphabets and returns boolean value\n",
        "print(li.isalpha())\n",
        "\n",
        "#endswith('string') => matches with string at the end and returns boolean value\n",
        "print(li.endswith('!!'))\n",
        "\n",
        "#startswith('string') => matches with string in the start and returns boolean value\n",
        "print(li.startswith('The'))\n",
        "\n",
        "#isupper() => checks whether the strings are in uppercase. Returns boolean value\n",
        "print(li.isupper())\n",
        "\n",
        "#islower() => checks whether the strings are in lowercase. Returns boolean\n",
        "print(li.islower())\n",
        "\n",
        "#islower() => checks whether the strings are in lowercase. Returns boolean value\n",
        "print(li.isspace())\n",
        "\n",
        "#isdigit() => checks whether the strings are digits. Returns boolean value\n",
        "print(li.isdigit())\n",
        "\n",
        "#istitle() => checks whether all words in a string starts with uppercase. Returns boolean value\n",
        "print(li.istitle())\n",
        "\n",
        "#sorted() => method to sort a string in alphabetical order\n",
        "print(sorted(li))"
      ],
      "metadata": {
        "colab": {
          "base_uri": "https://localhost:8080/"
        },
        "id": "Ij-EvDfh1dcM",
        "outputId": "3d5f679c-18f6-4318-b83e-cd886d2273ff"
      },
      "execution_count": 61,
      "outputs": [
        {
          "output_type": "stream",
          "name": "stdout",
          "text": [
            "The Knight who say NI!!\n",
            "False\n",
            "True\n",
            "True\n",
            "False\n",
            "False\n",
            "False\n",
            "False\n",
            "False\n",
            "[' ', ' ', ' ', ' ', '!', '!', 'I', 'K', 'N', 'T', 'a', 'e', 'g', 'h', 'h', 'h', 'i', 'n', 'o', 's', 't', 'w', 'y']\n"
          ]
        }
      ]
    },
    {
      "cell_type": "markdown",
      "source": [
        "1) find all occurrences of a substring in a given strig by ignoring the case.\n",
        "\n",
        "2) calculate the sum and average of the digits present in a sequence\n",
        "\n",
        "3) Arrange string sequence such that lowercase letters should come first"
      ],
      "metadata": {
        "id": "79xGXbzD6531"
      }
    }
  ]
}