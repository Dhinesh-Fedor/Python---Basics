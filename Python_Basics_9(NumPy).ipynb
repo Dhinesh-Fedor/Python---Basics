{
  "nbformat": 4,
  "nbformat_minor": 0,
  "metadata": {
    "colab": {
      "provenance": [],
      "authorship_tag": "ABX9TyOCMHBiZ7h8bfcSnfUM9FEn",
      "include_colab_link": true
    },
    "kernelspec": {
      "name": "python3",
      "display_name": "Python 3"
    },
    "language_info": {
      "name": "python"
    }
  },
  "cells": [
    {
      "cell_type": "markdown",
      "metadata": {
        "id": "view-in-github",
        "colab_type": "text"
      },
      "source": [
        "<a href=\"https://colab.research.google.com/github/Dhinesh-Fedor/C/blob/main/Python_Basics_9(NumPy).ipynb\" target=\"_parent\"><img src=\"https://colab.research.google.com/assets/colab-badge.svg\" alt=\"Open In Colab\"/></a>"
      ]
    },
    {
      "cell_type": "code",
      "execution_count": 2,
      "metadata": {
        "colab": {
          "base_uri": "https://localhost:8080/"
        },
        "id": "rrXEOC6_ufwb",
        "outputId": "e37dfb34-9d1c-45db-95d4-420edd968d9d"
      },
      "outputs": [
        {
          "output_type": "stream",
          "name": "stdout",
          "text": [
            "2800000\n",
            "800000\n"
          ]
        }
      ],
      "source": [
        "#numpy\n",
        "#example\n",
        "\n",
        "import numpy as np\n",
        "import sys\n",
        "\n",
        "a = list(range(100000))\n",
        "print(sys.getsizeof(100000)*len(a))\n",
        "b = np.arange(100000)\n",
        "print(b.size*b.itemsize)\n"
      ]
    },
    {
      "cell_type": "code",
      "source": [
        "#NumPy arrays are faster than lists\n",
        "\n",
        "import time as t\n",
        "\n",
        "t1 = t.time()\n",
        "a = range(100000)\n",
        "b = range(100000)\n",
        "z = [a[i]+ b[i] for i in range(len(a))]\n",
        "print(t.time() - t1)\n",
        "\n",
        "#using numpy\n",
        "import numpy as np\n",
        "import time as t\n",
        "\n",
        "t1 = t.time()\n",
        "a = np.arange(100000)\n",
        "b = np.arange(100000)\n",
        "z = a+b\n",
        "print(t.time() - t1)\n",
        "\n"
      ],
      "metadata": {
        "colab": {
          "base_uri": "https://localhost:8080/"
        },
        "id": "UnY9vrfqvCry",
        "outputId": "ad170ab4-6f70-4d9b-b201-14176efc5174"
      },
      "execution_count": 14,
      "outputs": [
        {
          "output_type": "stream",
          "name": "stdout",
          "text": [
            "0.03230118751525879\n",
            "0.0029523372650146484\n"
          ]
        }
      ]
    },
    {
      "cell_type": "code",
      "source": [
        "#creating a numpy array\n",
        "\n",
        "#1-D array\n",
        "a = np.array([1,2,3])\n",
        "b = np.array([(1,2,3)]) #another way\n",
        "print(a)\n",
        "print(\"\\n\",b)\n",
        "\n",
        "#2-D array\n",
        "a = np.array([[1,2,3],[4,5,6]])\n",
        "b = np.array([(1,2,3),(4,5,6)]) #another way\n",
        "print(\"\\n\",a)\n",
        "print(\"\\n\",b)\n",
        "print(a.ndim) #prints the dimension\n",
        "print(a.shape)\n",
        "print(a[1][2]) #a[rows][cols]\n",
        "\n"
      ],
      "metadata": {
        "colab": {
          "base_uri": "https://localhost:8080/"
        },
        "id": "n-xXfIjyvphS",
        "outputId": "43f196c0-3c1b-4a22-9157-df2075c6b684"
      },
      "execution_count": 21,
      "outputs": [
        {
          "output_type": "stream",
          "name": "stdout",
          "text": [
            "[1 2 3]\n",
            "\n",
            " [[1 2 3]]\n",
            "\n",
            " [[1 2 3]\n",
            " [4 5 6]]\n",
            "\n",
            " [[1 2 3]\n",
            " [4 5 6]]\n",
            "2\n",
            "(2, 3)\n",
            "6\n"
          ]
        }
      ]
    },
    {
      "cell_type": "code",
      "source": [
        "#3-D array\n",
        "\n",
        "a = np.array([\n",
        "              [(1,2,3),(4,5,6),(7,8,9)],\n",
        "              [(1,2,3),(4,5,6),(7,8,9)],\n",
        "              [(1,2,3),(4,5,6),(7,8,10)],\n",
        "              ])\n",
        "\n",
        "print(a)\n",
        "print(\"\\n\",a.shape)\n",
        "print(a.ndim)\n",
        "print(a.size) #prints total number of arrays\n",
        "print(a.itemsize) #prints total number elements in the array\n",
        "print(a[2][2][2])\n",
        "print(a[2,2,2])#another way to access elements"
      ],
      "metadata": {
        "colab": {
          "base_uri": "https://localhost:8080/"
        },
        "id": "uCeYML2vwo2i",
        "outputId": "b89d3fb4-5655-46df-8eb4-6e2f9f657ee5"
      },
      "execution_count": 26,
      "outputs": [
        {
          "output_type": "stream",
          "name": "stdout",
          "text": [
            "[[[ 1  2  3]\n",
            "  [ 4  5  6]\n",
            "  [ 7  8  9]]\n",
            "\n",
            " [[ 1  2  3]\n",
            "  [ 4  5  6]\n",
            "  [ 7  8  9]]\n",
            "\n",
            " [[ 1  2  3]\n",
            "  [ 4  5  6]\n",
            "  [ 7  8 10]]]\n",
            "\n",
            " (3, 3, 3)\n",
            "3\n",
            "27\n",
            "8\n",
            "10\n",
            "10\n"
          ]
        }
      ]
    },
    {
      "cell_type": "code",
      "source": [
        "#Reshaping anarray in numpy\n",
        "a = np.arange(25)\n",
        "print(a)\n",
        "\n",
        "#reshaping\n",
        "b = a.reshape(5,5)\n",
        "print(b)\n"
      ],
      "metadata": {
        "colab": {
          "base_uri": "https://localhost:8080/"
        },
        "id": "gRuYzI8fz4gL",
        "outputId": "e599820b-7ad8-4296-c825-651d8d68b37e"
      },
      "execution_count": 31,
      "outputs": [
        {
          "output_type": "stream",
          "name": "stdout",
          "text": [
            "[ 0  1  2  3  4  5  6  7  8  9 10 11 12 13 14 15 16 17 18 19 20 21 22 23\n",
            " 24]\n",
            "[[ 0  1  2  3  4]\n",
            " [ 5  6  7  8  9]\n",
            " [10 11 12 13 14]\n",
            " [15 16 17 18 19]\n",
            " [20 21 22 23 24]]\n"
          ]
        }
      ]
    },
    {
      "cell_type": "code",
      "source": [
        "#Ravel a 2D array\n",
        "#used to get 1D array from 2D array\n",
        "\n",
        "a = np.array([[1,2,3],[4,5,6]])\n",
        "print(a)\n",
        "b = a.ravel() #converts the 2D array(a) into  1D array\n",
        "#or b = np.ravel(a) => this also works\n",
        "print(b)\n",
        "\n",
        "#flatten() => same function as ravel\n",
        "a = np.array([[1,2,3],[4,5,6]])\n",
        "print(\"\\n\",a)\n",
        "b = a.flatten() #converts the 2D array(a) into  1D array\n",
        "print(b)\n",
        "\n",
        "#Reshape => same function as ravel\n",
        "a = np.array([[1,2,3],[4,5,6]])\n",
        "print(\"\\n\",a)\n",
        "b = a.reshape(-1) #converts the 2D array(a) into  1D array\n",
        "print(b)\n"
      ],
      "metadata": {
        "colab": {
          "base_uri": "https://localhost:8080/"
        },
        "id": "g9JDGxyt1mLy",
        "outputId": "287797ca-ebc2-411a-dd9d-121fbf897320"
      },
      "execution_count": 38,
      "outputs": [
        {
          "output_type": "stream",
          "name": "stdout",
          "text": [
            "[[1 2 3]\n",
            " [4 5 6]]\n",
            "[1 2 3 4 5 6]\n",
            "\n",
            " [[1 2 3]\n",
            " [4 5 6]]\n",
            "[1 2 3 4 5 6]\n",
            "\n",
            " [[1 2 3]\n",
            " [4 5 6]]\n",
            "[1 2 3 4 5 6]\n"
          ]
        }
      ]
    },
    {
      "cell_type": "code",
      "source": [
        "#Slicing in Numpy\n",
        "a = np.arange(0,36).reshape(6,6)\n",
        "print(a)\n",
        "\n",
        "s = a[3:6,1:4] #a[row_start:row_end,coln_start:coln_end]\n",
        "print(\"\\n\",s)\n",
        "\n",
        "#Note: end is always n-1\n",
        "\n",
        "t = a[1:,3:]\n",
        "print(\"\\n\",t)"
      ],
      "metadata": {
        "colab": {
          "base_uri": "https://localhost:8080/"
        },
        "id": "jlcnClKv3ERT",
        "outputId": "0b2a2f04-d885-479f-81d3-ceed6ca9999c"
      },
      "execution_count": 44,
      "outputs": [
        {
          "output_type": "stream",
          "name": "stdout",
          "text": [
            "[[ 0  1  2  3  4  5]\n",
            " [ 6  7  8  9 10 11]\n",
            " [12 13 14 15 16 17]\n",
            " [18 19 20 21 22 23]\n",
            " [24 25 26 27 28 29]\n",
            " [30 31 32 33 34 35]]\n",
            "\n",
            " [[19 20 21]\n",
            " [25 26 27]\n",
            " [31 32 33]]\n",
            "\n",
            " [[ 9 10 11]\n",
            " [15 16 17]\n",
            " [21 22 23]\n",
            " [27 28 29]\n",
            " [33 34 35]]\n"
          ]
        }
      ]
    },
    {
      "cell_type": "code",
      "source": [
        "#Built-in Methods\n",
        "\n",
        "#odd numbers from 101 to 130\n",
        "a = np.arange(101,130,0.7) #this 0.7 is step value (ie) a(start,end,step)\n",
        "print(a)\n",
        "\n",
        "#zeros() => generates arrays with only number of given zeros\n",
        "\n",
        "#array of 10 zeros\n",
        "#1D\n",
        "a = np.zeros(10)\n",
        "print(\"\\n\",a)\n",
        "\n",
        "#2D\n",
        "print(\"\\n2d array:\")\n",
        "b = np.zeros([4,4])\n",
        "print(b)\n",
        "\n",
        "#3D\n",
        "print(\"\\n3d array:\")\n",
        "b = np.zeros([4,4,4])\n",
        "print(b)\n",
        "\n",
        "#ones() => generates arrays with only number of given ones but type is float\n",
        "\n",
        "#array of 10 ones\n",
        "#1D\n",
        "a = np.ones(10)\n",
        "print(\"\\n\",a)\n",
        "\n",
        "#2D\n",
        "print(\"\\n2d array:\")\n",
        "b = np.ones([4,4])\n",
        "print(b)\n",
        "\n",
        "#3D\n",
        "print(\"\\n3d array:\")\n",
        "b = np.ones([4,4,4])\n",
        "print(b)"
      ],
      "metadata": {
        "colab": {
          "base_uri": "https://localhost:8080/"
        },
        "id": "gd1apDnF5AJ7",
        "outputId": "07462eb3-7bb0-4ebb-b46b-18c5f65b06ed"
      },
      "execution_count": 53,
      "outputs": [
        {
          "output_type": "stream",
          "name": "stdout",
          "text": [
            "[101.  101.7 102.4 103.1 103.8 104.5 105.2 105.9 106.6 107.3 108.  108.7\n",
            " 109.4 110.1 110.8 111.5 112.2 112.9 113.6 114.3 115.  115.7 116.4 117.1\n",
            " 117.8 118.5 119.2 119.9 120.6 121.3 122.  122.7 123.4 124.1 124.8 125.5\n",
            " 126.2 126.9 127.6 128.3 129.  129.7]\n",
            "\n",
            " [0. 0. 0. 0. 0. 0. 0. 0. 0. 0.]\n",
            "\n",
            "2d array:\n",
            "[[0. 0. 0. 0.]\n",
            " [0. 0. 0. 0.]\n",
            " [0. 0. 0. 0.]\n",
            " [0. 0. 0. 0.]]\n",
            "\n",
            "3d array:\n",
            "[[[0. 0. 0. 0.]\n",
            "  [0. 0. 0. 0.]\n",
            "  [0. 0. 0. 0.]\n",
            "  [0. 0. 0. 0.]]\n",
            "\n",
            " [[0. 0. 0. 0.]\n",
            "  [0. 0. 0. 0.]\n",
            "  [0. 0. 0. 0.]\n",
            "  [0. 0. 0. 0.]]\n",
            "\n",
            " [[0. 0. 0. 0.]\n",
            "  [0. 0. 0. 0.]\n",
            "  [0. 0. 0. 0.]\n",
            "  [0. 0. 0. 0.]]\n",
            "\n",
            " [[0. 0. 0. 0.]\n",
            "  [0. 0. 0. 0.]\n",
            "  [0. 0. 0. 0.]\n",
            "  [0. 0. 0. 0.]]]\n",
            "\n",
            " [1. 1. 1. 1. 1. 1. 1. 1. 1. 1.]\n",
            "\n",
            "2d array:\n",
            "[[1. 1. 1. 1.]\n",
            " [1. 1. 1. 1.]\n",
            " [1. 1. 1. 1.]\n",
            " [1. 1. 1. 1.]]\n",
            "\n",
            "3d array:\n",
            "[[[1. 1. 1. 1.]\n",
            "  [1. 1. 1. 1.]\n",
            "  [1. 1. 1. 1.]\n",
            "  [1. 1. 1. 1.]]\n",
            "\n",
            " [[1. 1. 1. 1.]\n",
            "  [1. 1. 1. 1.]\n",
            "  [1. 1. 1. 1.]\n",
            "  [1. 1. 1. 1.]]\n",
            "\n",
            " [[1. 1. 1. 1.]\n",
            "  [1. 1. 1. 1.]\n",
            "  [1. 1. 1. 1.]\n",
            "  [1. 1. 1. 1.]]\n",
            "\n",
            " [[1. 1. 1. 1.]\n",
            "  [1. 1. 1. 1.]\n",
            "  [1. 1. 1. 1.]\n",
            "  [1. 1. 1. 1.]]]\n"
          ]
        }
      ]
    },
    {
      "cell_type": "code",
      "source": [
        "#identity matrix\n",
        "#np.eye(dimn,dimn,dtype = type) => syntax\n",
        "#if only one dimn is given then it takes the same value for next dimn and want to change datatype then\n",
        "#dtype = \"type\" is passed as a parameter\n",
        "\n",
        "#examples\n",
        "a = np.eye(4,3,dtype = int)\n",
        "print(a)\n",
        "\n",
        "\n",
        "a = np.eye(4,3,k=-2,dtype = int)\n",
        "print(\"\\n\",a)\n",
        "\n",
        "\n",
        "#linspace() => print points in terms of linear distribution\n",
        "a = np.linspace(1,10,20)\n",
        "print(\"\\n\",a)\n",
        "\n",
        "\n",
        "a = np.linspace(1,10,20,retstep = True) #retstep = True prints the distribution step value\n",
        "print(\"\\n\",a)\n"
      ],
      "metadata": {
        "colab": {
          "base_uri": "https://localhost:8080/"
        },
        "id": "q8KRVKjL7q8k",
        "outputId": "f75e992b-0f89-49f9-9b41-577165ac2f59"
      },
      "execution_count": 66,
      "outputs": [
        {
          "output_type": "stream",
          "name": "stdout",
          "text": [
            "[[1 0 0]\n",
            " [0 1 0]\n",
            " [0 0 1]\n",
            " [0 0 0]]\n",
            "\n",
            " [[0 0 0]\n",
            " [0 0 0]\n",
            " [1 0 0]\n",
            " [0 1 0]]\n",
            "\n",
            " [ 1.          1.47368421  1.94736842  2.42105263  2.89473684  3.36842105\n",
            "  3.84210526  4.31578947  4.78947368  5.26315789  5.73684211  6.21052632\n",
            "  6.68421053  7.15789474  7.63157895  8.10526316  8.57894737  9.05263158\n",
            "  9.52631579 10.        ]\n",
            "\n",
            " (array([ 1.        ,  1.47368421,  1.94736842,  2.42105263,  2.89473684,\n",
            "        3.36842105,  3.84210526,  4.31578947,  4.78947368,  5.26315789,\n",
            "        5.73684211,  6.21052632,  6.68421053,  7.15789474,  7.63157895,\n",
            "        8.10526316,  8.57894737,  9.05263158,  9.52631579, 10.        ]), 0.47368421052631576)\n"
          ]
        }
      ]
    },
    {
      "cell_type": "code",
      "source": [
        "#logspace() => print points in terms of logarithmic distribution\n",
        "\n",
        "a = np.logspace(1,10,num = 5,endpoint = True,base = 10.0)\n",
        "print(a)\n",
        "\n",
        "a = np.logspace(5,10,num = 5,endpoint = True,base = 10.0)\n",
        "print(\"\\n\",a)\n",
        "\n",
        "a = np.logspace(5,10,num = 5,endpoint = False,base = 10.0)\n",
        "print(\"\\n\",a)"
      ],
      "metadata": {
        "colab": {
          "base_uri": "https://localhost:8080/"
        },
        "id": "aprXazhC-QUc",
        "outputId": "d3480100-31b0-4427-ff92-c50dc818406b"
      },
      "execution_count": 69,
      "outputs": [
        {
          "output_type": "stream",
          "name": "stdout",
          "text": [
            "[1.00000000e+01 1.77827941e+03 3.16227766e+05 5.62341325e+07\n",
            " 1.00000000e+10]\n",
            "\n",
            " [1.00000000e+05 1.77827941e+06 3.16227766e+07 5.62341325e+08\n",
            " 1.00000000e+10]\n",
            "\n",
            " [1.e+05 1.e+06 1.e+07 1.e+08 1.e+09]\n"
          ]
        }
      ]
    },
    {
      "cell_type": "code",
      "source": [
        "#Generating random numbers\n",
        "\n",
        "a = 100000\n",
        "uniform = np.random.rand(a) #rand =>uniform distribution\n",
        "normal = np.random.randn(a) #randn => normal distribution\n",
        "print(uniform)\n",
        "print(normal)"
      ],
      "metadata": {
        "colab": {
          "base_uri": "https://localhost:8080/"
        },
        "id": "pZHZjmgrAgaN",
        "outputId": "1fc0b53e-5cff-4b4e-a5be-1ab0613ab5cc"
      },
      "execution_count": 70,
      "outputs": [
        {
          "output_type": "stream",
          "name": "stdout",
          "text": [
            "[0.52851362 0.50500617 0.57758248 ... 0.74177761 0.75518958 0.90095799]\n",
            "[-0.10615753  0.05861488  0.90412814 ... -0.83283661  0.07040587\n",
            "  1.51725021]\n"
          ]
        }
      ]
    }
  ]
}
