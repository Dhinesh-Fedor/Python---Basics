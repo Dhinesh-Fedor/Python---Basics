{
  "nbformat": 4,
  "nbformat_minor": 0,
  "metadata": {
    "colab": {
      "provenance": [],
      "authorship_tag": "ABX9TyM9lKpbYhTQINm8IkH17h11",
      "include_colab_link": true
    },
    "kernelspec": {
      "name": "python3",
      "display_name": "Python 3"
    },
    "language_info": {
      "name": "python"
    }
  },
  "cells": [
    {
      "cell_type": "markdown",
      "metadata": {
        "id": "view-in-github",
        "colab_type": "text"
      },
      "source": [
        "<a href=\"https://colab.research.google.com/github/Dhinesh-Fedor/Python---Basics/blob/main/Python_Basics_9(NumPy).ipynb\" target=\"_parent\"><img src=\"https://colab.research.google.com/assets/colab-badge.svg\" alt=\"Open In Colab\"/></a>"
      ]
    },
    {
      "cell_type": "code",
      "execution_count": 2,
      "metadata": {
        "colab": {
          "base_uri": "https://localhost:8080/"
        },
        "id": "rrXEOC6_ufwb",
        "outputId": "e37dfb34-9d1c-45db-95d4-420edd968d9d"
      },
      "outputs": [
        {
          "output_type": "stream",
          "name": "stdout",
          "text": [
            "2800000\n",
            "800000\n"
          ]
        }
      ],
      "source": [
        "#numpy\n",
        "#example\n",
        "\n",
        "import numpy as np\n",
        "import sys\n",
        "\n",
        "a = list(range(100000))\n",
        "print(sys.getsizeof(100000)*len(a))\n",
        "b = np.arange(100000)\n",
        "print(b.size*b.itemsize)\n"
      ]
    },
    {
      "cell_type": "code",
      "source": [
        "#NumPy arrays are faster than lists\n",
        "\n",
        "import time as t\n",
        "\n",
        "t1 = t.time()\n",
        "a = range(100000)\n",
        "b = range(100000)\n",
        "z = [a[i]+ b[i] for i in range(len(a))]\n",
        "print(t.time() - t1)\n",
        "\n",
        "#using numpy\n",
        "import numpy as np\n",
        "import time as t\n",
        "\n",
        "t1 = t.time()\n",
        "a = np.arange(100000)\n",
        "b = np.arange(100000)\n",
        "z = a+b\n",
        "print(t.time() - t1)\n",
        "\n"
      ],
      "metadata": {
        "colab": {
          "base_uri": "https://localhost:8080/"
        },
        "id": "UnY9vrfqvCry",
        "outputId": "ad170ab4-6f70-4d9b-b201-14176efc5174"
      },
      "execution_count": 14,
      "outputs": [
        {
          "output_type": "stream",
          "name": "stdout",
          "text": [
            "0.03230118751525879\n",
            "0.0029523372650146484\n"
          ]
        }
      ]
    },
    {
      "cell_type": "code",
      "source": [
        "#creating a numpy array\n",
        "\n",
        "#1-D array\n",
        "a = np.array([1,2,3])\n",
        "b = np.array([(1,2,3)]) #another way\n",
        "print(a)\n",
        "print(\"\\n\",b)\n",
        "\n",
        "#2-D array\n",
        "a = np.array([[1,2,3],[4,5,6]])\n",
        "b = np.array([(1,2,3),(4,5,6)]) #another way\n",
        "print(\"\\n\",a)\n",
        "print(\"\\n\",b)\n",
        "print(a.ndim) #prints the dimension\n",
        "print(a.shape)\n",
        "print(a[1][2]) #a[rows][cols]\n",
        "\n"
      ],
      "metadata": {
        "colab": {
          "base_uri": "https://localhost:8080/"
        },
        "id": "n-xXfIjyvphS",
        "outputId": "43f196c0-3c1b-4a22-9157-df2075c6b684"
      },
      "execution_count": 21,
      "outputs": [
        {
          "output_type": "stream",
          "name": "stdout",
          "text": [
            "[1 2 3]\n",
            "\n",
            " [[1 2 3]]\n",
            "\n",
            " [[1 2 3]\n",
            " [4 5 6]]\n",
            "\n",
            " [[1 2 3]\n",
            " [4 5 6]]\n",
            "2\n",
            "(2, 3)\n",
            "6\n"
          ]
        }
      ]
    },
    {
      "cell_type": "code",
      "source": [
        "#3-D array\n",
        "\n",
        "a = np.array([\n",
        "              [(1,2,3),(4,5,6),(7,8,9)],\n",
        "              [(1,2,3),(4,5,6),(7,8,9)],\n",
        "              [(1,2,3),(4,5,6),(7,8,10)],\n",
        "              ])\n",
        "\n",
        "print(a)\n",
        "print(\"\\n\",a.shape)\n",
        "print(a.ndim)\n",
        "print(a[2][2][2])\n",
        "print(a[2,2,2])#another way to access elements"
      ],
      "metadata": {
        "colab": {
          "base_uri": "https://localhost:8080/"
        },
        "id": "uCeYML2vwo2i",
        "outputId": "1daf2a4f-557c-4463-dea6-ed4362cdfbbc"
      },
      "execution_count": 25,
      "outputs": [
        {
          "output_type": "stream",
          "name": "stdout",
          "text": [
            "[[[ 1  2  3]\n",
            "  [ 4  5  6]\n",
            "  [ 7  8  9]]\n",
            "\n",
            " [[ 1  2  3]\n",
            "  [ 4  5  6]\n",
            "  [ 7  8  9]]\n",
            "\n",
            " [[ 1  2  3]\n",
            "  [ 4  5  6]\n",
            "  [ 7  8 10]]]\n",
            "\n",
            " (3, 3, 3)\n",
            "3\n",
            "10\n",
            "10\n"
          ]
        }
      ]
    },
    {
      "cell_type": "code",
      "source": [],
      "metadata": {
        "id": "gRuYzI8fz4gL"
      },
      "execution_count": null,
      "outputs": []
    }
  ]
}