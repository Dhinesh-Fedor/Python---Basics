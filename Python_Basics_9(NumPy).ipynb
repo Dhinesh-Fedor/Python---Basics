{
  "nbformat": 4,
  "nbformat_minor": 0,
  "metadata": {
    "colab": {
      "provenance": [],
      "authorship_tag": "ABX9TyNMlfwwNKnX9eiBwF3P0R7V",
      "include_colab_link": true
    },
    "kernelspec": {
      "name": "python3",
      "display_name": "Python 3"
    },
    "language_info": {
      "name": "python"
    }
  },
  "cells": [
    {
      "cell_type": "markdown",
      "metadata": {
        "id": "view-in-github",
        "colab_type": "text"
      },
      "source": [
        "<a href=\"https://colab.research.google.com/github/Dhinesh-Fedor/Python---Basics/blob/main/Python_Basics_9(NumPy).ipynb\" target=\"_parent\"><img src=\"https://colab.research.google.com/assets/colab-badge.svg\" alt=\"Open In Colab\"/></a>"
      ]
    },
    {
      "cell_type": "code",
      "execution_count": 2,
      "metadata": {
        "colab": {
          "base_uri": "https://localhost:8080/"
        },
        "id": "rrXEOC6_ufwb",
        "outputId": "e37dfb34-9d1c-45db-95d4-420edd968d9d"
      },
      "outputs": [
        {
          "output_type": "stream",
          "name": "stdout",
          "text": [
            "2800000\n",
            "800000\n"
          ]
        }
      ],
      "source": [
        "#numpy\n",
        "#example\n",
        "\n",
        "import numpy as np\n",
        "import sys\n",
        "\n",
        "a = list(range(100000))\n",
        "print(sys.getsizeof(100000)*len(a))\n",
        "b = np.arange(100000)\n",
        "print(b.size*b.itemsize)\n"
      ]
    },
    {
      "cell_type": "code",
      "source": [
        "#NumPy arrays are faster than lists\n",
        "\n",
        "import time as t\n",
        "\n",
        "t1 = t.time()\n",
        "a = range(100000)\n",
        "b = range(100000)\n",
        "z = [a[i]+ b[i] for i in range(len(a))]\n",
        "print(t.time() - t1)\n",
        "\n",
        "#using numpy\n",
        "import numpy as np\n",
        "import time as t\n",
        "\n",
        "t1 = t.time()\n",
        "a = np.arange(100000)\n",
        "b = np.arange(100000)\n",
        "z = a+b\n",
        "print(t.time() - t1)\n",
        "\n"
      ],
      "metadata": {
        "colab": {
          "base_uri": "https://localhost:8080/"
        },
        "id": "UnY9vrfqvCry",
        "outputId": "ad170ab4-6f70-4d9b-b201-14176efc5174"
      },
      "execution_count": 14,
      "outputs": [
        {
          "output_type": "stream",
          "name": "stdout",
          "text": [
            "0.03230118751525879\n",
            "0.0029523372650146484\n"
          ]
        }
      ]
    },
    {
      "cell_type": "code",
      "source": [
        "#creating a numpy array\n",
        "\n",
        "#1-D array\n",
        "a = np.array([1,2,3])\n",
        "b = np.array([(1,2,3)]) #another way\n",
        "print(a)\n",
        "print(\"\\n\",b)\n",
        "\n",
        "#2-D array\n",
        "a = np.array([[1,2,3],[4,5,6]])\n",
        "b = np.array([(1,2,3),(4,5,6)]) #another way\n",
        "print(\"\\n\",a)\n",
        "print(\"\\n\",b)\n",
        "print(a.ndim) #prints the dimension\n",
        "print(a.shape)\n",
        "print(a[1][2]) #a[rows][cols]\n",
        "\n"
      ],
      "metadata": {
        "colab": {
          "base_uri": "https://localhost:8080/"
        },
        "id": "n-xXfIjyvphS",
        "outputId": "43f196c0-3c1b-4a22-9157-df2075c6b684"
      },
      "execution_count": 21,
      "outputs": [
        {
          "output_type": "stream",
          "name": "stdout",
          "text": [
            "[1 2 3]\n",
            "\n",
            " [[1 2 3]]\n",
            "\n",
            " [[1 2 3]\n",
            " [4 5 6]]\n",
            "\n",
            " [[1 2 3]\n",
            " [4 5 6]]\n",
            "2\n",
            "(2, 3)\n",
            "6\n"
          ]
        }
      ]
    },
    {
      "cell_type": "code",
      "source": [
        "#3-D array\n",
        "\n",
        "a = np.array([\n",
        "              [(1,2,3),(4,5,6),(7,8,9)],\n",
        "              [(1,2,3),(4,5,6),(7,8,9)],\n",
        "              [(1,2,3),(4,5,6),(7,8,10)],\n",
        "              ])\n",
        "\n",
        "print(a)\n",
        "print(\"\\n\",a.shape)\n",
        "print(a.ndim)\n",
        "print(a.size) #prints total number of arrays\n",
        "print(a.itemsize) #prints total number elements in the array\n",
        "print(a[2][2][2])\n",
        "print(a[2,2,2])#another way to access elements"
      ],
      "metadata": {
        "colab": {
          "base_uri": "https://localhost:8080/"
        },
        "id": "uCeYML2vwo2i",
        "outputId": "b89d3fb4-5655-46df-8eb4-6e2f9f657ee5"
      },
      "execution_count": 26,
      "outputs": [
        {
          "output_type": "stream",
          "name": "stdout",
          "text": [
            "[[[ 1  2  3]\n",
            "  [ 4  5  6]\n",
            "  [ 7  8  9]]\n",
            "\n",
            " [[ 1  2  3]\n",
            "  [ 4  5  6]\n",
            "  [ 7  8  9]]\n",
            "\n",
            " [[ 1  2  3]\n",
            "  [ 4  5  6]\n",
            "  [ 7  8 10]]]\n",
            "\n",
            " (3, 3, 3)\n",
            "3\n",
            "27\n",
            "8\n",
            "10\n",
            "10\n"
          ]
        }
      ]
    },
    {
      "cell_type": "code",
      "source": [
        "#Reshaping anarray in numpy\n",
        "a = np.arange(25)\n",
        "print(a)\n",
        "\n",
        "#reshaping\n",
        "b = a.reshape(5,5)\n",
        "print(b)\n"
      ],
      "metadata": {
        "colab": {
          "base_uri": "https://localhost:8080/"
        },
        "id": "gRuYzI8fz4gL",
        "outputId": "e599820b-7ad8-4296-c825-651d8d68b37e"
      },
      "execution_count": 31,
      "outputs": [
        {
          "output_type": "stream",
          "name": "stdout",
          "text": [
            "[ 0  1  2  3  4  5  6  7  8  9 10 11 12 13 14 15 16 17 18 19 20 21 22 23\n",
            " 24]\n",
            "[[ 0  1  2  3  4]\n",
            " [ 5  6  7  8  9]\n",
            " [10 11 12 13 14]\n",
            " [15 16 17 18 19]\n",
            " [20 21 22 23 24]]\n"
          ]
        }
      ]
    },
    {
      "cell_type": "code",
      "source": [
        "#Ravel a 2D array\n",
        "#used to get 1D array from 2D array\n",
        "\n",
        "a = np.array([[1,2,3],[4,5,6]])\n",
        "print(a)\n",
        "b = a.ravel() #converts the 2D array(a) into  1D array\n",
        "#or b = np.ravel(a) => this also works\n",
        "print(b)\n",
        "\n",
        "#flatten() => same function as ravel\n",
        "a = np.array([[1,2,3],[4,5,6]])\n",
        "print(\"\\n\",a)\n",
        "b = a.flatten() #converts the 2D array(a) into  1D array\n",
        "print(b)\n",
        "\n",
        "#Reshape => same function as ravel\n",
        "a = np.array([[1,2,3],[4,5,6]])\n",
        "print(\"\\n\",a)\n",
        "b = a.reshape(-1) #converts the 2D array(a) into  1D array\n",
        "print(b)\n"
      ],
      "metadata": {
        "colab": {
          "base_uri": "https://localhost:8080/"
        },
        "id": "g9JDGxyt1mLy",
        "outputId": "287797ca-ebc2-411a-dd9d-121fbf897320"
      },
      "execution_count": 38,
      "outputs": [
        {
          "output_type": "stream",
          "name": "stdout",
          "text": [
            "[[1 2 3]\n",
            " [4 5 6]]\n",
            "[1 2 3 4 5 6]\n",
            "\n",
            " [[1 2 3]\n",
            " [4 5 6]]\n",
            "[1 2 3 4 5 6]\n",
            "\n",
            " [[1 2 3]\n",
            " [4 5 6]]\n",
            "[1 2 3 4 5 6]\n"
          ]
        }
      ]
    },
    {
      "cell_type": "code",
      "source": [
        "#Slicing in Numpy\n",
        "a = np.arange(0,36).reshape(6,6)\n",
        "print(a)\n",
        "\n",
        "s = a[3:6,1:4] #a[row_start:row_end,coln_start,coln_end]\n",
        "print(\"\\n\",s)\n",
        "\n",
        "#Note: end is always n-1\n",
        "\n",
        "t = a[1:,3:]\n",
        "print(\"\\n\",t)"
      ],
      "metadata": {
        "colab": {
          "base_uri": "https://localhost:8080/"
        },
        "id": "jlcnClKv3ERT",
        "outputId": "0b2a2f04-d885-479f-81d3-ceed6ca9999c"
      },
      "execution_count": 44,
      "outputs": [
        {
          "output_type": "stream",
          "name": "stdout",
          "text": [
            "[[ 0  1  2  3  4  5]\n",
            " [ 6  7  8  9 10 11]\n",
            " [12 13 14 15 16 17]\n",
            " [18 19 20 21 22 23]\n",
            " [24 25 26 27 28 29]\n",
            " [30 31 32 33 34 35]]\n",
            "\n",
            " [[19 20 21]\n",
            " [25 26 27]\n",
            " [31 32 33]]\n",
            "\n",
            " [[ 9 10 11]\n",
            " [15 16 17]\n",
            " [21 22 23]\n",
            " [27 28 29]\n",
            " [33 34 35]]\n"
          ]
        }
      ]
    },
    {
      "cell_type": "code",
      "source": [
        "#Built-in Methods\n",
        "\n",
        "#odd numbers from 101 to 130\n",
        "a = np.arange(101,130,0.7) #this 0.7 is step value (ie) a(start,end,step)\n",
        "print(a)"
      ],
      "metadata": {
        "colab": {
          "base_uri": "https://localhost:8080/"
        },
        "id": "gd1apDnF5AJ7",
        "outputId": "5177bd00-1d6d-4893-9852-2334f531834a"
      },
      "execution_count": 45,
      "outputs": [
        {
          "output_type": "stream",
          "name": "stdout",
          "text": [
            "[101.  101.7 102.4 103.1 103.8 104.5 105.2 105.9 106.6 107.3 108.  108.7\n",
            " 109.4 110.1 110.8 111.5 112.2 112.9 113.6 114.3 115.  115.7 116.4 117.1\n",
            " 117.8 118.5 119.2 119.9 120.6 121.3 122.  122.7 123.4 124.1 124.8 125.5\n",
            " 126.2 126.9 127.6 128.3 129.  129.7]\n"
          ]
        }
      ]
    }
  ]
}