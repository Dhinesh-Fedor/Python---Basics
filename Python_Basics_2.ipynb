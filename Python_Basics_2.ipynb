{
  "nbformat": 4,
  "nbformat_minor": 0,
  "metadata": {
    "colab": {
      "provenance": [],
      "authorship_tag": "ABX9TyMjqnpuJBVkl7uxVpcrs4MW",
      "include_colab_link": true
    },
    "kernelspec": {
      "name": "python3",
      "display_name": "Python 3"
    },
    "language_info": {
      "name": "python"
    }
  },
  "cells": [
    {
      "cell_type": "markdown",
      "metadata": {
        "id": "view-in-github",
        "colab_type": "text"
      },
      "source": [
        "<a href=\"https://colab.research.google.com/github/Dhinesh-Fedor/Python---Basics/blob/main/Python_Basics_2.ipynb\" target=\"_parent\"><img src=\"https://colab.research.google.com/assets/colab-badge.svg\" alt=\"Open In Colab\"/></a>"
      ]
    },
    {
      "cell_type": "code",
      "source": [
        "#if statement\n",
        "a = int(input(\"enter a number : \"))\n",
        "if a >= 0:\n",
        "  print(\"Positive number.\")"
      ],
      "metadata": {
        "colab": {
          "base_uri": "https://localhost:8080/"
        },
        "id": "Tp9bndCVABjV",
        "outputId": "168c8b19-7ca3-4c8c-8df9-5106ef52cf55"
      },
      "execution_count": 1,
      "outputs": [
        {
          "output_type": "stream",
          "name": "stdout",
          "text": [
            "enter a number : 1\n",
            "Positive number.\n"
          ]
        }
      ]
    },
    {
      "cell_type": "code",
      "source": [
        "#if else statement\n",
        "a = int(input(\"enter a number : \"))\n",
        "if a>=0:\n",
        "  print(\"Positive\")\n",
        "else:\n",
        "  print(\"Negative\")"
      ],
      "metadata": {
        "colab": {
          "base_uri": "https://localhost:8080/"
        },
        "id": "JL7XMSnLATnd",
        "outputId": "78353742-97f8-46df-999b-0e56d2f98198"
      },
      "execution_count": 3,
      "outputs": [
        {
          "output_type": "stream",
          "name": "stdout",
          "text": [
            "enter a number : -1\n",
            "Negative\n"
          ]
        }
      ]
    },
    {
      "cell_type": "code",
      "source": [
        "#if,else if , else statement\n",
        "a= int(input(\"enter a number : \"))\n",
        "if a>0:\n",
        "  print(\"Positive\")\n",
        "elif a <0:\n",
        "  print(\"Negative\")\n",
        "else:\n",
        "  print(\"Neither positive nor negative\")\n"
      ],
      "metadata": {
        "colab": {
          "base_uri": "https://localhost:8080/"
        },
        "id": "LupJPaWTA1XL",
        "outputId": "c78670df-be18-4a60-b39e-c184c540aa95"
      },
      "execution_count": 4,
      "outputs": [
        {
          "output_type": "stream",
          "name": "stdout",
          "text": [
            "enter a number : 0\n",
            "Neither positive nor negative\n"
          ]
        }
      ]
    },
    {
      "cell_type": "code",
      "source": [
        "#for loop\n",
        "\n",
        "#generate a sequence of numbers from 1 to 10\n",
        "\n",
        "for i in range(1,11):\n",
        "  print(i)"
      ],
      "metadata": {
        "colab": {
          "base_uri": "https://localhost:8080/"
        },
        "id": "MhkfIRNTBThd",
        "outputId": "b6689469-323b-40d5-ee51-f5e518812ee4"
      },
      "execution_count": 5,
      "outputs": [
        {
          "output_type": "stream",
          "name": "stdout",
          "text": [
            "1\n",
            "2\n",
            "3\n",
            "4\n",
            "5\n",
            "6\n",
            "7\n",
            "8\n",
            "9\n",
            "10\n"
          ]
        }
      ]
    },
    {
      "cell_type": "code",
      "source": [
        "#while loop with for and else\n",
        "\n",
        "a = int(input(\"enter a \"))"
      ],
      "metadata": {
        "id": "qCb9iI99BnVi"
      },
      "execution_count": null,
      "outputs": []
    }
  ]
}