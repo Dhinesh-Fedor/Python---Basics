{
  "nbformat": 4,
  "nbformat_minor": 0,
  "metadata": {
    "colab": {
      "provenance": [],
      "authorship_tag": "ABX9TyNFHtEPVqNKMBFd8QHlR1jz",
      "include_colab_link": true
    },
    "kernelspec": {
      "name": "python3",
      "display_name": "Python 3"
    },
    "language_info": {
      "name": "python"
    }
  },
  "cells": [
    {
      "cell_type": "markdown",
      "metadata": {
        "id": "view-in-github",
        "colab_type": "text"
      },
      "source": [
        "<a href=\"https://colab.research.google.com/github/Dhinesh-Fedor/Python---Basics/blob/main/Python_Basics_2.ipynb\" target=\"_parent\"><img src=\"https://colab.research.google.com/assets/colab-badge.svg\" alt=\"Open In Colab\"/></a>"
      ]
    },
    {
      "cell_type": "code",
      "source": [
        "#if statement\n",
        "a = int(input(\"enter a number : \"))\n",
        "if a >= 0:\n",
        "  print(\"Positive number.\")"
      ],
      "metadata": {
        "colab": {
          "base_uri": "https://localhost:8080/"
        },
        "id": "Tp9bndCVABjV",
        "outputId": "168c8b19-7ca3-4c8c-8df9-5106ef52cf55"
      },
      "execution_count": 1,
      "outputs": [
        {
          "output_type": "stream",
          "name": "stdout",
          "text": [
            "enter a number : 1\n",
            "Positive number.\n"
          ]
        }
      ]
    },
    {
      "cell_type": "code",
      "source": [
        "#if else statement\n",
        "a = int(input(\"enter a number : \"))\n",
        "if a>=0:\n",
        "  print(\"Positive\")\n",
        "else:\n",
        "  print(\"Negative\")"
      ],
      "metadata": {
        "colab": {
          "base_uri": "https://localhost:8080/"
        },
        "id": "JL7XMSnLATnd",
        "outputId": "78353742-97f8-46df-999b-0e56d2f98198"
      },
      "execution_count": 3,
      "outputs": [
        {
          "output_type": "stream",
          "name": "stdout",
          "text": [
            "enter a number : -1\n",
            "Negative\n"
          ]
        }
      ]
    },
    {
      "cell_type": "code",
      "source": [
        "#if,else if , else statement\n",
        "a= int(input(\"enter a number : \"))\n",
        "if a>0:\n",
        "  print(\"Positive\")\n",
        "elif a <0:\n",
        "  print(\"Negative\")\n",
        "else:\n",
        "  print(\"Neither positive nor negative\")\n"
      ],
      "metadata": {
        "colab": {
          "base_uri": "https://localhost:8080/"
        },
        "id": "LupJPaWTA1XL",
        "outputId": "c78670df-be18-4a60-b39e-c184c540aa95"
      },
      "execution_count": 4,
      "outputs": [
        {
          "output_type": "stream",
          "name": "stdout",
          "text": [
            "enter a number : 0\n",
            "Neither positive nor negative\n"
          ]
        }
      ]
    },
    {
      "cell_type": "code",
      "source": [
        "#for loop\n",
        "\n",
        "#generate a sequence of numbers from 1 to 10\n",
        "\n",
        "for i in range(1,11):\n",
        "  print(i,end = ' ')"
      ],
      "metadata": {
        "colab": {
          "base_uri": "https://localhost:8080/"
        },
        "id": "MhkfIRNTBThd",
        "outputId": "cc846727-10f0-4154-8b86-f4b37e0f4c83"
      },
      "execution_count": 5,
      "outputs": [
        {
          "output_type": "stream",
          "name": "stdout",
          "text": [
            "1 2 3 4 5 6 7 8 9 10 "
          ]
        }
      ]
    },
    {
      "cell_type": "code",
      "source": [
        "#for loop , iterating through a string\n",
        "\n",
        "for i in \"Welcome to Python\":\n",
        "  print(i,end = \" \")"
      ],
      "metadata": {
        "colab": {
          "base_uri": "https://localhost:8080/"
        },
        "id": "1ENus2FCE2if",
        "outputId": "b095971d-96ec-42e7-b751-9c2954fa8ca1"
      },
      "execution_count": 9,
      "outputs": [
        {
          "output_type": "stream",
          "name": "stdout",
          "text": [
            "W e l c o m e   t o   P y t h o n "
          ]
        }
      ]
    },
    {
      "cell_type": "code",
      "source": [
        "#while loop with for and else\n",
        "\n",
        "a = int(input(\"enter a number : \"))\n",
        "\n",
        "while a == 1:\n",
        "  for i in range(1,10):\n",
        "    print(i,end=' ')\n",
        "  a = 2\n",
        "else:\n",
        "  print(\"\\nexit\")"
      ],
      "metadata": {
        "colab": {
          "base_uri": "https://localhost:8080/"
        },
        "id": "qCb9iI99BnVi",
        "outputId": "021c45d1-f75d-4b13-e7a2-55691cdf2ee7"
      },
      "execution_count": 7,
      "outputs": [
        {
          "output_type": "stream",
          "name": "stdout",
          "text": [
            "enter a number : 1\n",
            "1 2 3 4 5 6 7 8 9 \n",
            "exit\n"
          ]
        }
      ]
    },
    {
      "cell_type": "code",
      "source": [
        "#Pattern generation\n",
        "\n",
        "a = int(input(\"enter height : \"))\n",
        "for i in range(0,a):\n",
        "  for j in range(0,i+1):\n",
        "    print(\"#\",end=' ')\n",
        "  print()\n",
        "\n"
      ],
      "metadata": {
        "colab": {
          "base_uri": "https://localhost:8080/"
        },
        "id": "W73072lzGbhW",
        "outputId": "4fa01ff2-1ff2-41ca-fc56-d5578e87932c"
      },
      "execution_count": 30,
      "outputs": [
        {
          "output_type": "stream",
          "name": "stdout",
          "text": [
            "enter height : 6\n",
            "# \n",
            "# # \n",
            "# # # \n",
            "# # # # \n",
            "# # # # # \n",
            "# # # # # # \n"
          ]
        }
      ]
    },
    {
      "cell_type": "markdown",
      "source": [
        "PROBLEM EXERCISES"
      ],
      "metadata": {
        "id": "-eFdO86iD3Eq"
      }
    },
    {
      "cell_type": "code",
      "source": [
        "#To check odd or even\n",
        "\n",
        "a = int(input(\"enter a number : \"))\n",
        "if a%2 == 0:\n",
        "  print(\"Even\")\n",
        "else:\n",
        "  print(\"Odd\")"
      ],
      "metadata": {
        "colab": {
          "base_uri": "https://localhost:8080/"
        },
        "id": "eUQnBdY0Dxaz",
        "outputId": "d8d32e87-a298-4da6-d9c4-5fb9fd30159e"
      },
      "execution_count": 8,
      "outputs": [
        {
          "output_type": "stream",
          "name": "stdout",
          "text": [
            "enter a number : 1\n",
            "Odd\n"
          ]
        }
      ]
    },
    {
      "cell_type": "code",
      "source": [
        "#To check leap year or not\n",
        "\n",
        "a = int(input(\"enter year : \"))\n",
        "if a%4 == 0:\n",
        "  print(\"Leap year.\")\n",
        "else:\n",
        "  print(\"Not  leap year\")\n"
      ],
      "metadata": {
        "colab": {
          "base_uri": "https://localhost:8080/"
        },
        "id": "LM-QMwcTEpSJ",
        "outputId": "583ff123-a3ab-4894-d88c-3bc93a2ac707"
      },
      "execution_count": 11,
      "outputs": [
        {
          "output_type": "stream",
          "name": "stdout",
          "text": [
            "enter year : 2024\n",
            "Leap year.\n"
          ]
        }
      ]
    },
    {
      "cell_type": "code",
      "source": [
        "#To segragate grade of a student\n",
        "\n",
        "a = int(input(\"Enter your cgpa : \"))\n",
        "if a >= 9 &&  a <=10:\n",
        "  print()\n",
        "elif a >= 8 && a < 9:\n",
        "  print()\n",
        "elif a >= 6 && a < :\n",
        "  print()\n",
        "elif a >= 7 && a <= 8:\n",
        "  print()\n",
        "elif a >= 7 && a <= 8:"
      ],
      "metadata": {
        "id": "bPnRBoUvF1tf"
      },
      "execution_count": null,
      "outputs": []
    }
  ]
}