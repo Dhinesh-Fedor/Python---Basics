{
  "nbformat": 4,
  "nbformat_minor": 0,
  "metadata": {
    "colab": {
      "provenance": [],
      "authorship_tag": "ABX9TyNBF5i7z5pDEpN1qhcWvLGu",
      "include_colab_link": true
    },
    "kernelspec": {
      "name": "python3",
      "display_name": "Python 3"
    },
    "language_info": {
      "name": "python"
    }
  },
  "cells": [
    {
      "cell_type": "markdown",
      "metadata": {
        "id": "view-in-github",
        "colab_type": "text"
      },
      "source": [
        "<a href=\"https://colab.research.google.com/github/Dhinesh-Fedor/Python---Basics/blob/main/Python_Basics_10(NumPy-2).ipynb\" target=\"_parent\"><img src=\"https://colab.research.google.com/assets/colab-badge.svg\" alt=\"Open In Colab\"/></a>"
      ]
    },
    {
      "cell_type": "code",
      "execution_count": 13,
      "metadata": {
        "colab": {
          "base_uri": "https://localhost:8080/",
          "height": 939
        },
        "id": "d1N5KEa2-Ssj",
        "outputId": "cc74a5ac-28a3-4f8b-d330-b78ead688347"
      },
      "outputs": [
        {
          "output_type": "stream",
          "name": "stdout",
          "text": [
            "[0.72473076 0.8058349  0.31286808 ... 0.70956263 0.62471271 0.9663033 ]\n",
            "[-1.77274222  0.63927832 -1.82100225 ... -0.83526028 -0.09939135\n",
            "  1.70004951]\n"
          ]
        },
        {
          "output_type": "display_data",
          "data": {
            "text/plain": [
              "<Figure size 640x480 with 1 Axes>"
            ],
            "image/png": "[encoded data removed]"
          },
          "metadata": {}
        },
        {
          "output_type": "display_data",
          "data": {
            "text/plain": [
              "<Figure size 640x480 with 1 Axes>"
            ],
            "image/png": "[encoded data removed]"
          },
          "metadata": {}
        }
      ],
      "source": [
        "import matplotlib.pyplot as p #matplotlib => library used to plot distributions\n",
        "import numpy as n\n",
        "\n",
        "s = 100000\n",
        "uniform = n.random.rand(s)\n",
        "normal = n.random.randn(s)\n",
        "\n",
        "print(uniform)\n",
        "print(normal)\n",
        "\n",
        "pdf ,bins,patches = p.hist(uniform,bins = 12,range=(0,1),density = True)\n",
        "p.title('rand : uniform')\n",
        "p.show()\n",
        "\n",
        "pdf ,bins,patches = p.hist(normal,bins = 12,range=(-4,4),density = True)\n",
        "p.title('randn : normal')\n",
        "p.show()\n",
        "\n",
        ""
      ]
    },
    {
      "cell_type": "code",
      "source": [
        "#randn function => results normal distribution\n",
        "\n",
        "a = n.random.randn(4)\n",
        "b = n.random.randn(5,6)\n",
        "print('1-D:')\n",
        "print(a)\n",
        "print('2-D:')\n",
        "print(b)\n",
        "\n",
        "#randint() => generates a random integer within the range\n",
        "#syntax => randint(low,high,size)\n",
        "a = n.random.randint(20)\n",
        "print(a)\n",
        "a = n.random.randint(2,20)\n",
        "print(a)\n",
        "a = n.random.randint(1,20,10)\n",
        "print(a)\n"
      ],
      "metadata": {
        "colab": {
          "base_uri": "https://localhost:8080/"
        },
        "id": "3wygF2eAFSW9",
        "outputId": "9a0608f8-596c-467f-ea39-5f60f9337d45"
      },
      "execution_count": 26,
      "outputs": [
        {
          "output_type": "stream",
          "name": "stdout",
          "text": [
            "1-D:\n",
            "[ 0.27163508 -0.27586007  0.51620076 -0.1005876 ]\n",
            "2-D:\n",
            "[[-1.05390275  1.03987722 -0.26036899 -1.11073972 -0.32382027 -0.74788345]\n",
            " [-1.20879784 -0.30396749  2.89690872  1.72631173  0.2386309  -0.09047478]\n",
            " [-0.6169962   0.78028142  0.85451575 -0.7000781   1.71550441 -0.54999212]\n",
            " [-1.08169563 -0.50620788  0.25741502  0.07330501 -1.41932597  0.35600176]\n",
            " [-1.06369242 -1.61412172  0.71473629  0.23029152  2.0317892   0.00532303]]\n",
            "7\n",
            "5\n",
            "[ 1 19 17 19 17  9 16  4 16  1]\n"
          ]
        }
      ]
    },
    {
      "cell_type": "code",
      "source": [
        "#Arthmetic operations\n",
        "a = n.array([(1,2,3,4)])\n",
        "b = n.array([(5,6,7,8)])\n",
        "#addition\n",
        "print(a+b)\n",
        "#subtraction\n",
        "print(\"\\n\",a-b)\n",
        "#multiplication\n",
        "print(\"\\n\",a*b)\n",
        "#division\n",
        "print(\"\\n\",a/b)\n",
        "\n",
        "#Broadcasting\n",
        "e = a+50\n",
        "print(\"\\n\",e)"
      ],
      "metadata": {
        "colab": {
          "base_uri": "https://localhost:8080/"
        },
        "id": "OZ4HwacdG0R5",
        "outputId": "49788353-c300-4cf7-8dd2-0c0d17b321ef"
      },
      "execution_count": 31,
      "outputs": [
        {
          "output_type": "stream",
          "name": "stdout",
          "text": [
            "[[ 6  8 10 12]]\n",
            "\n",
            " [[-4 -4 -4 -4]]\n",
            "\n",
            " [[ 5 12 21 32]]\n",
            "\n",
            " [[0.2        0.33333333 0.42857143 0.5       ]]\n",
            "[[51 52 53 54]]\n"
          ]
        }
      ]
    },
    {
      "cell_type": "code",
      "source": [
        "#Mathematical functions\n",
        "\n",
        "#square root\n",
        "r = n.sqrt(a)\n",
        "print(r)\n",
        "\n",
        "#exponential\n",
        "q = n.exp(a)\n",
        "print(\"\\n\",q)\n",
        "\n",
        "#Sine\n",
        "sin = n.sin(a)\n",
        "print(\"\\n\",sin)\n",
        "\n",
        "#Cos\n",
        "cos = n.cos(a)\n",
        "print(\"\\n\",cos)\n",
        "\n",
        "#log\n",
        "log = n.log(a)\n",
        "print(\"\\n\",log)\n",
        "\n",
        "#Sum\n",
        "sum = n.sum(a)\n",
        "print(\"\\n\",sum)\n",
        "\n",
        "#Standard deviation\n",
        "std = n.std(a)\n",
        "print(\"\\n\",std)\n",
        "\n"
      ],
      "metadata": {
        "colab": {
          "base_uri": "https://localhost:8080/"
        },
        "id": "GbYAZZRIHxBZ",
        "outputId": "7ef10717-5ab3-4626-d9b0-828d0d05ef32"
      },
      "execution_count": 36,
      "outputs": [
        {
          "output_type": "stream",
          "name": "stdout",
          "text": [
            "[[1.         1.41421356 1.73205081 2.        ]]\n",
            "\n",
            " [[ 2.71828183  7.3890561  20.08553692 54.59815003]]\n",
            "\n",
            " [[ 0.84147098  0.90929743  0.14112001 -0.7568025 ]]\n",
            "\n",
            " [[ 0.54030231 -0.41614684 -0.9899925  -0.65364362]]\n",
            "\n",
            " [[0.         0.69314718 1.09861229 1.38629436]]\n",
            "\n",
            " 10\n",
            "\n",
            " 1.118033988749895\n"
          ]
        }
      ]
    },
    {
      "cell_type": "code",
      "source": [
        "#2-D array\n",
        "# note:- axis = 0 => row and axis = 1 => column\n",
        "a = n.array([\n",
        "            (1,2,3),(4,5,6),(7,8,9)\n",
        "            ])\n",
        "print(a)\n",
        "#column sum\n",
        "sum = a.sum(axis=1)\n",
        "print(\"\\n\",sum)\n",
        "\n",
        "#row sum\n",
        "sum = a.sum(axis=0)\n",
        "print(\"\\n\",sum)\n",
        "\n",
        "\n",
        "#maximum\n",
        "max = a.max()\n",
        "print(max)\n",
        "argmax = a.argmax()\n",
        "print(argmax)\n",
        "\n",
        "#minimum\n",
        "min = a.min()\n",
        "print(min)\n",
        "argmin = a.argmin()\n",
        "print(argmin)\n",
        "\n"
      ],
      "metadata": {
        "colab": {
          "base_uri": "https://localhost:8080/"
        },
        "id": "vKA3cH7JJ35Z",
        "outputId": "16485d5b-ef9d-41da-df06-1721ea8ae7b5"
      },
      "execution_count": 56,
      "outputs": [
        {
          "output_type": "stream",
          "name": "stdout",
          "text": [
            "[[1 2 3]\n",
            " [4 5 6]\n",
            " [7 8 9]]\n",
            "\n",
            " [ 6 15 24]\n",
            "\n",
            " [12 15 18]\n",
            "9\n",
            "8\n",
            "1\n",
            "0\n"
          ]
        }
      ]
    },
    {
      "cell_type": "code",
      "source": [
        "#Stacking\n",
        "\n",
        "a = n.array([(1,2,3,4)])\n",
        "b = n.array([(5,6,7,8)])\n",
        "\n",
        "#horizontal stack\n",
        "c= n.hstack((a,b))\n",
        "print(c)\n",
        "\n",
        "#vertical stack\n",
        "d = n.vstack((a,b))\n",
        "print(\"\\n\",d)"
      ],
      "metadata": {
        "colab": {
          "base_uri": "https://localhost:8080/"
        },
        "id": "yJOOP4ChLUYh",
        "outputId": "dd8fe514-9f93-4046-ebf5-027bee8664db"
      },
      "execution_count": 50,
      "outputs": [
        {
          "output_type": "stream",
          "name": "stdout",
          "text": [
            "[[1 2 3 4 5 6 7 8]]\n",
            "\n",
            " [[1 2 3 4]\n",
            " [5 6 7 8]]\n"
          ]
        }
      ]
    },
    {
      "cell_type": "code",
      "source": [
        "#inseertion of a row or column in an existing 2D  array\n",
        "#syntax => insert(name,position,[elements],axis = 0 or 1)\n",
        "#if axis = 0 => row and if 1 => column\n",
        "a = n.array([\n",
        "            (1,2,3),(4,5,6),(7,8,9)\n",
        "            ])\n",
        "print(a)\n",
        "\n",
        "#row insertion\n",
        "a = n.insert(a,1,[0,1,0],axis = 0)\n",
        "print(\"\\n\",a)\n",
        "\n",
        "\n",
        "# row deletion\n",
        "a = n.delete(a,1,axis=0)\n",
        "print(\"\\n\",a)\n",
        "\n",
        "#column insertion\n",
        "a = n.insert(a,1,[0,1,0],axis = 1)\n",
        "print(\"\\n\",a)\n",
        "\n",
        "#column deletion\n",
        "a = n.delete(a,1,axis=1)\n",
        "print(\"\\n\",a)"
      ],
      "metadata": {
        "colab": {
          "base_uri": "https://localhost:8080/"
        },
        "id": "Ix_Q8E55MEcp",
        "outputId": "a1164254-2733-45b8-c015-4728fccfc993"
      },
      "execution_count": 47,
      "outputs": [
        {
          "output_type": "stream",
          "name": "stdout",
          "text": [
            "[[1 2 3]\n",
            " [4 5 6]\n",
            " [7 8 9]]\n",
            "\n",
            " [[1 2 3]\n",
            " [0 1 0]\n",
            " [4 5 6]\n",
            " [7 8 9]]\n",
            "\n",
            " [[1 2 3]\n",
            " [4 5 6]\n",
            " [7 8 9]]\n",
            "\n",
            " [[1 0 2 3]\n",
            " [4 1 5 6]\n",
            " [7 0 8 9]]\n",
            "\n",
            " [[1 2 3]\n",
            " [4 5 6]\n",
            " [7 8 9]]\n"
          ]
        }
      ]
    },
    {
      "cell_type": "code",
      "source": [
        "#Matrices in NumPy\n",
        "#Note:- Matrix is strictly 2D\n",
        "\n",
        "mat1 = n.matrix('1,2; 3,4')\n",
        "mat2 = n.matrix('5,6; 7,8')\n",
        "print(mat1)\n",
        "print(\"\\n\",mat2)\n",
        "print(\"\\n\",mat1.shape)\n",
        "\n",
        "#Arithmetic operations\n",
        "print(mat1+mat2)\n",
        "print(\"\\n\",mat1-mat2)\n",
        "print(\"\\n\",mat1*mat2)\n",
        "print(\"\\n\",mat1/mat2)\n",
        "print(\"\\n\",n.divide(mat1,mat2)) #this also works\n",
        "\n",
        "#Transpose\n",
        "print(\"\\n\",n.transpose(mat1))\n",
        "#or\n",
        "print(\"\\n\",mat1.T)"
      ],
      "metadata": {
        "colab": {
          "base_uri": "https://localhost:8080/"
        },
        "id": "9YIrhWs4OcLQ",
        "outputId": "2bba20cd-3ecc-4d95-91c6-2f2f75bab043"
      },
      "execution_count": 58,
      "outputs": [
        {
          "output_type": "stream",
          "name": "stdout",
          "text": [
            "[[1 2]\n",
            " [3 4]]\n",
            "\n",
            " [[5 6]\n",
            " [7 8]]\n",
            "\n",
            " (2, 2)\n",
            "[[ 6  8]\n",
            " [10 12]]\n",
            "\n",
            " [[-4 -4]\n",
            " [-4 -4]]\n",
            "\n",
            " [[19 22]\n",
            " [43 50]]\n",
            "\n",
            " [[0.2        0.33333333]\n",
            " [0.42857143 0.5       ]]\n",
            "\n",
            " [[0.2        0.33333333]\n",
            " [0.42857143 0.5       ]]\n",
            "\n",
            " [[1 3]\n",
            " [2 4]]\n",
            "\n",
            " [[1 3]\n",
            " [2 4]]\n"
          ]
        }
      ]
    },
    {
      "cell_type": "code",
      "source": [
        "#Insertion of a row or column in an existing matrix\n",
        "\n",
        "#column insertion\n",
        "new_col = n.matrix('5,6')\n",
        "a = n.insert(mat1,2,new_col,axis=1)\n",
        "print(a)\n",
        "\n",
        "#column deletion\n",
        "a = n.delete(a,1,axis=1)\n",
        "print(\"\\n\",a)\n",
        "\n",
        "#row insertion\n",
        "new_row = n.matrix('5,6')\n",
        "a = n.insert(mat1,2,new_row,axis=0)\n",
        "print(\"\\n\",a)\n",
        "\n",
        "# row deletion\n",
        "a = n.delete(a,1,axis=0)\n",
        "print(\"\\n\",a)\n",
        "\n"
      ],
      "metadata": {
        "colab": {
          "base_uri": "https://localhost:8080/"
        },
        "id": "4bwMddYiQleg",
        "outputId": "ee6a67bc-8dee-4682-9d82-58c313a41574"
      },
      "execution_count": 64,
      "outputs": [
        {
          "output_type": "stream",
          "name": "stdout",
          "text": [
            "[[1 2 5]\n",
            " [3 4 6]]\n",
            "\n",
            " [[1 5]\n",
            " [3 6]]\n",
            "\n",
            " [[1 2]\n",
            " [3 4]\n",
            " [5 6]]\n",
            "\n",
            " [[1 2]\n",
            " [5 6]]\n"
          ]
        }
      ]
    },
    {
      "cell_type": "code",
      "source": [
        "#Linear Algebra with matrices\n",
        "\n",
        "#determinant => .linalg.det() method from numpy is used to find determinant\n",
        "mat1 = n.matrix('1,2; 3,4')\n",
        "print(mat1)\n",
        "\n",
        "det = n.linalg.det(mat1)\n",
        "print(det)\n",
        "\n",
        "#Rank => linalg.matrix_rank() method is used to find rank of a matrix\n",
        "rank = n.linalg.matrix_rank(mat1)\n",
        "print(rank)\n",
        "\n",
        "#inverse => linalg.inv() method is used to find the inverse of a matrix\n",
        "inv = n.linalg.inv(mat1)\n",
        "print(inv)"
      ],
      "metadata": {
        "colab": {
          "base_uri": "https://localhost:8080/"
        },
        "id": "WOQXCPaYRwOA",
        "outputId": "63751378-3360-4f81-9fd5-aa89d415f122"
      },
      "execution_count": 68,
      "outputs": [
        {
          "output_type": "stream",
          "name": "stdout",
          "text": [
            "[[1 2]\n",
            " [3 4]]\n",
            "-2.0000000000000004\n",
            "2\n",
            "[[-2.   1. ]\n",
            " [ 1.5 -0.5]]\n"
          ]
        }
      ]
    }
  ]
}