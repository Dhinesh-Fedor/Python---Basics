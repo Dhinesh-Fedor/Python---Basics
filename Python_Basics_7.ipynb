{
  "nbformat": 4,
  "nbformat_minor": 0,
  "metadata": {
    "colab": {
      "provenance": [],
      "authorship_tag": "ABX9TyOipitvXG+QFEz97KAf6n8U",
      "include_colab_link": true
    },
    "kernelspec": {
      "name": "python3",
      "display_name": "Python 3"
    },
    "language_info": {
      "name": "python"
    }
  },
  "cells": [
    {
      "cell_type": "markdown",
      "metadata": {
        "id": "view-in-github",
        "colab_type": "text"
      },
      "source": [
        "<a href=\"https://colab.research.google.com/github/Dhinesh-Fedor/Python---Basics/blob/main/Python_Basics_7.ipynb\" target=\"_parent\"><img src=\"https://colab.research.google.com/assets/colab-badge.svg\" alt=\"Open In Colab\"/></a>"
      ]
    },
    {
      "cell_type": "code",
      "execution_count": 7,
      "metadata": {
        "colab": {
          "base_uri": "https://localhost:8080/"
        },
        "id": "U6xiET5PoZrV",
        "outputId": "e62a4d15-69cb-4c76-b22a-8d575630da61"
      },
      "outputs": [
        {
          "output_type": "stream",
          "name": "stdout",
          "text": [
            "{'name': 'bob', 'age': 18, 'job': 'none'}\n",
            "bob\n",
            "{'name': 'bob', 'age': 18, 'job': 'engineer'}\n",
            "{'name': 'bob', 'job': 'engineer'}\n",
            "{}\n"
          ]
        }
      ],
      "source": [
        "#Dictionary\n",
        "#syntax => variable = {key1 : value, key2 : value, keyn : value}\n",
        "\n",
        "#empty dictionary\n",
        "a = {}\n",
        "\n",
        "\n",
        "a = {'name' : \"bob\", \"age\" : 18, \"job\" : 'none'}\n",
        "print(a)\n",
        "\n",
        "#accessing elements\n",
        "print(a['name'])\n",
        "\n",
        "#updating elements\n",
        "a['job'] = 'engineer'\n",
        "print(a)\n",
        "\n",
        "#deleting elements\n",
        "#del keyword is used\n",
        "\n",
        "del a['age'] #deleting particular element\n",
        "print(a)\n",
        "\n",
        "#clear()\n",
        "a.clear() #removes all the elements\n",
        "print(a)\n",
        "\n",
        "b = {'name' : \"bob\", \"age\" : 18, \"job\" : 'none'}\n",
        "del b #deletes the entire dictionary\n",
        "\n"
      ]
    },
    {
      "cell_type": "code",
      "source": [
        "#basic operations\n",
        "#length method\n",
        "a = {'name' : \"bob\", \"age\" : 18, \"job\" : 'none'}\n",
        "print(len(a)) #prints the length of the dictionary\n",
        "\n",
        "print('name' in a) #key membership test\n",
        "\n",
        "l = list(a.keys()) #converts the keys of a dictionary into a list\n",
        "print(l)\n",
        "\n",
        "l = list(a.values()) #converts the values of a dictionary into a list\n",
        "print(l)\n",
        "\n",
        "l = list(a.items()) #converts the keys and values of a dictionary into a list\n",
        "print(l)\n",
        "\n",
        "print(a.get('name')) #A key which is there\n",
        "print(a.get('place')) #A key which is missing\n",
        "print(a.get('place','chennai')) #Key is assigne da value if given\n",
        "\n",
        "#update method\n",
        "b = {'place' : \"chennai\"}\n",
        "a.update(b)\n",
        "print(a)\n",
        "\n",
        "#pop method\n",
        "a.pop('age')\n",
        "print(a)\n",
        "\n"
      ],
      "metadata": {
        "colab": {
          "base_uri": "https://localhost:8080/"
        },
        "id": "jkp_12hUsDm1",
        "outputId": "b6dc67b3-c071-4049-baea-73d334650814"
      },
      "execution_count": 15,
      "outputs": [
        {
          "output_type": "stream",
          "name": "stdout",
          "text": [
            "3\n",
            "True\n",
            "['name', 'age', 'job']\n",
            "['bob', 18, 'none']\n",
            "[('name', 'bob'), ('age', 18), ('job', 'none')]\n",
            "bob\n",
            "None\n",
            "chennai\n",
            "{'name': 'bob', 'age': 18, 'job': 'none', 'place': 'chennai'}\n",
            "{'name': 'bob', 'job': 'none', 'place': 'chennai'}\n"
          ]
        }
      ]
    },
    {
      "cell_type": "code",
      "source": [
        "#nested dictionary\n",
        "\n",
        "a = { 'name' : 'bob',\n",
        "      'jobs' : ['developer','manager'],\n",
        "      'home' : {'state' : 'USA', 'city' : 'ohio'}\n",
        "}\n",
        "\n",
        "print(a)\n",
        "\n",
        "#accessing particular element from nested dictionary\n",
        "\n",
        "#for example want to print only manager\n",
        "print(a['jobs'][1])\n",
        "\n",
        "#accessing only city\n",
        "print(a['home']['city'])\n"
      ],
      "metadata": {
        "colab": {
          "base_uri": "https://localhost:8080/"
        },
        "id": "3b7PDKR-uRox",
        "outputId": "87c1f039-138e-4739-a204-3aa31c3190ad"
      },
      "execution_count": 18,
      "outputs": [
        {
          "output_type": "stream",
          "name": "stdout",
          "text": [
            "{'name': 'bob', 'jobs': ['developer', 'manager'], 'home': {'state': 'USA', 'city': 'ohio'}}\n",
            "manager\n",
            "ohio\n"
          ]
        }
      ]
    },
    {
      "cell_type": "code",
      "source": [
        "#other ways to make dictionaries\n",
        "\n",
        "a = {}\n",
        "a['name'] = 'bob'\n",
        "a['age'] = 18\n",
        "\n",
        "print(a)\n",
        "\n",
        "\n",
        "#or\n",
        "\n",
        "#dict method is used\n",
        "a = dict(name = 'bob',age = 20) #note keys should be passed without quotes\n",
        "print(a)\n",
        "\n",
        "#or\n",
        "\n",
        "#dictionay key/value tuples form\n",
        "a = dict([('name','bob'),('age',18)])\n",
        "print(a)\n"
      ],
      "metadata": {
        "colab": {
          "base_uri": "https://localhost:8080/"
        },
        "id": "nZDurFt2wro_",
        "outputId": "97039ce3-065b-4107-bc26-a5bafc20d63d"
      },
      "execution_count": 21,
      "outputs": [
        {
          "output_type": "stream",
          "name": "stdout",
          "text": [
            "{'name': 'bob', 'age': 18}\n",
            "{'name': 'bob', 'age': 20}\n",
            "{'name': 'bob', 'age': 18}\n"
          ]
        }
      ]
    },
    {
      "cell_type": "code",
      "source": [
        "#comprehensions in dictionaries\n",
        "a = { k:v for (k,v) in zip(['a','b','c'],[1,2,3])}\n",
        "print(a)\n",
        "\n",
        "a = { x : x ** 2 for x in range(1,5)}\n",
        "print(a)\n",
        "\n",
        "a = { i : i * 4 for i in 'SPAM'}\n",
        "print(a)\n",
        "\n",
        "a = { i.lower() : i + '!' for i in ['SPAM','LOL','BOB']}\n",
        "print(a)"
      ],
      "metadata": {
        "colab": {
          "base_uri": "https://localhost:8080/"
        },
        "id": "mOz2Uza-yPJs",
        "outputId": "73ea479b-e487-4021-97d7-b785172708b9"
      },
      "execution_count": 32,
      "outputs": [
        {
          "output_type": "stream",
          "name": "stdout",
          "text": [
            "{'a': 1, 'b': 2, 'c': 3}\n",
            "{1: 1, 2: 4, 3: 9, 4: 16}\n",
            "{'S': 'SSSS', 'P': 'PPPP', 'A': 'AAAA', 'M': 'MMMM'}\n",
            "{'spam': 'SPAM!', 'lol': 'LOL!', 'bob': 'BOB!'}\n"
          ]
        }
      ]
    }
  ]
}