{
  "nbformat": 4,
  "nbformat_minor": 0,
  "metadata": {
    "colab": {
      "provenance": [],
      "authorship_tag": "ABX9TyOe9FG5vrARHRDHOHhdGVjZ",
      "include_colab_link": true
    },
    "kernelspec": {
      "name": "python3",
      "display_name": "Python 3"
    },
    "language_info": {
      "name": "python"
    }
  },
  "cells": [
    {
      "cell_type": "markdown",
      "metadata": {
        "id": "view-in-github",
        "colab_type": "text"
      },
      "source": [
        "<a href=\"https://colab.research.google.com/github/Dhinesh-Fedor/Python---Basics/blob/main/Python_Basics_7.ipynb\" target=\"_parent\"><img src=\"https://colab.research.google.com/assets/colab-badge.svg\" alt=\"Open In Colab\"/></a>"
      ]
    },
    {
      "cell_type": "code",
      "execution_count": 7,
      "metadata": {
        "colab": {
          "base_uri": "https://localhost:8080/"
        },
        "id": "U6xiET5PoZrV",
        "outputId": "e62a4d15-69cb-4c76-b22a-8d575630da61"
      },
      "outputs": [
        {
          "output_type": "stream",
          "name": "stdout",
          "text": [
            "{'name': 'bob', 'age': 18, 'job': 'none'}\n",
            "bob\n",
            "{'name': 'bob', 'age': 18, 'job': 'engineer'}\n",
            "{'name': 'bob', 'job': 'engineer'}\n",
            "{}\n"
          ]
        }
      ],
      "source": [
        "#Dictionary\n",
        "#syntax => variable = {key1 : value, key2 : value, keyn : value}\n",
        "\n",
        "#empty dictionary\n",
        "a = {}\n",
        "\n",
        "\n",
        "a = {'name' : \"bob\", \"age\" : 18, \"job\" : 'none'}\n",
        "print(a)\n",
        "\n",
        "#accessing elements\n",
        "print(a['name'])\n",
        "\n",
        "#updating elements\n",
        "a['job'] = 'engineer'\n",
        "print(a)\n",
        "\n",
        "#deleting elements\n",
        "#del keyword is used\n",
        "\n",
        "del a['age'] #deleting particular element\n",
        "print(a)\n",
        "\n",
        "#clear()\n",
        "a.clear() #removes all the elements\n",
        "print(a)\n",
        "\n",
        "b = {'name' : \"bob\", \"age\" : 18, \"job\" : 'none'}\n",
        "del b #deletes the entire dictionary\n",
        "\n"
      ]
    },
    {
      "cell_type": "code",
      "source": [
        "#basic operations\n",
        "#length method\n",
        "a = {'name' : \"bob\", \"age\" : 18, \"job\" : 'none'}\n",
        "print(len(a)) #prints the length of the dictionary\n",
        "\n",
        "print('name' in a) #key membership test\n",
        "\n",
        "l = list(a.keys()) #converts the keys of a dictionary into a list\n",
        "print(l)\n",
        "\n",
        "l = list(a.values()) #converts the values of a dictionary into a list\n",
        "print(l)\n",
        "\n",
        "l = list(a.items()) #converts the keys and values of a dictionary into a list\n",
        "print(l)\n",
        "\n",
        "print(a.get('name')) #A key which is there\n",
        "print(a.get('place')) #A key which is missing\n",
        "print(a.get('place','chennai')) #Key is assigne da value if given\n",
        "\n",
        "#update method\n",
        "b = {'place' : \"chennai\"}\n",
        "a.update(b)\n",
        "print(a)\n",
        "\n",
        "#pop method\n",
        "a.pop('age')\n",
        "print(a)\n",
        "\n"
      ],
      "metadata": {
        "colab": {
          "base_uri": "https://localhost:8080/"
        },
        "id": "jkp_12hUsDm1",
        "outputId": "b6dc67b3-c071-4049-baea-73d334650814"
      },
      "execution_count": 15,
      "outputs": [
        {
          "output_type": "stream",
          "name": "stdout",
          "text": [
            "3\n",
            "True\n",
            "['name', 'age', 'job']\n",
            "['bob', 18, 'none']\n",
            "[('name', 'bob'), ('age', 18), ('job', 'none')]\n",
            "bob\n",
            "None\n",
            "chennai\n",
            "{'name': 'bob', 'age': 18, 'job': 'none', 'place': 'chennai'}\n",
            "{'name': 'bob', 'job': 'none', 'place': 'chennai'}\n"
          ]
        }
      ]
    },
    {
      "cell_type": "code",
      "source": [
        "#nested dictionary\n",
        "\n",
        "a = { 'name' : 'bob',\n",
        "      'jobs' : ['developer','manager'],\n",
        "      'home' : {'state' : 'USA', 'city' : 'ohio'}\n",
        "}\n",
        "\n",
        "print(a)\n",
        "\n",
        "#accessing particular element from nested dictionary\n",
        "\n",
        "#for example want to print only manager\n",
        "print(a['jobs'][1])\n",
        "\n",
        "#accessing only city\n",
        "print(a['home']['city'])\n"
      ],
      "metadata": {
        "colab": {
          "base_uri": "https://localhost:8080/"
        },
        "id": "3b7PDKR-uRox",
        "outputId": "87c1f039-138e-4739-a204-3aa31c3190ad"
      },
      "execution_count": 18,
      "outputs": [
        {
          "output_type": "stream",
          "name": "stdout",
          "text": [
            "{'name': 'bob', 'jobs': ['developer', 'manager'], 'home': {'state': 'USA', 'city': 'ohio'}}\n",
            "manager\n",
            "ohio\n"
          ]
        }
      ]
    },
    {
      "cell_type": "code",
      "source": [
        "#other ways to make dictionaries\n",
        "\n",
        "a = {}\n",
        "a['name'] = 'bob'\n",
        "a['age'] = 18\n",
        "\n",
        "print(a)\n",
        "\n",
        "\n",
        "#or\n",
        "\n",
        "#dict method is used\n",
        "a = dict(name = 'bob',age = 20) #note keys should be passed without quotes\n",
        "print(a)\n",
        "\n",
        "#or\n",
        "\n",
        "#dictionay key/value tuples form\n",
        "a = dict([('name','bob'),('age',18)])\n",
        "print(a)\n"
      ],
      "metadata": {
        "colab": {
          "base_uri": "https://localhost:8080/"
        },
        "id": "nZDurFt2wro_",
        "outputId": "97039ce3-065b-4107-bc26-a5bafc20d63d"
      },
      "execution_count": 21,
      "outputs": [
        {
          "output_type": "stream",
          "name": "stdout",
          "text": [
            "{'name': 'bob', 'age': 18}\n",
            "{'name': 'bob', 'age': 20}\n",
            "{'name': 'bob', 'age': 18}\n"
          ]
        }
      ]
    },
    {
      "cell_type": "code",
      "source": [
        "#comprehensions in dictionaries\n",
        "a = { k:v for (k,v) in zip(['a','b','c'],[1,2,3])}\n",
        "print(a)\n",
        "\n",
        "a = { x : x ** 2 for x in range(1,5)}\n",
        "print(a)\n",
        "\n",
        "a = { i : i * 4 for i in 'SPAM'}\n",
        "print(a)\n",
        "\n",
        "a = { i.lower() : i + '!' for i in ['SPAM','LOL','BOB']}\n",
        "print(a)"
      ],
      "metadata": {
        "colab": {
          "base_uri": "https://localhost:8080/"
        },
        "id": "mOz2Uza-yPJs",
        "outputId": "73ea479b-e487-4021-97d7-b785172708b9"
      },
      "execution_count": 32,
      "outputs": [
        {
          "output_type": "stream",
          "name": "stdout",
          "text": [
            "{'a': 1, 'b': 2, 'c': 3}\n",
            "{1: 1, 2: 4, 3: 9, 4: 16}\n",
            "{'S': 'SSSS', 'P': 'PPPP', 'A': 'AAAA', 'M': 'MMMM'}\n",
            "{'spam': 'SPAM!', 'lol': 'LOL!', 'bob': 'BOB!'}\n"
          ]
        }
      ]
    },
    {
      "cell_type": "code",
      "source": [
        "#initializing dictionaries\n",
        "\n",
        "#initialize from keys\n",
        "a = dict.fromkeys(['a','b','c'],0)\n",
        "print(a)\n",
        "\n",
        "#with comprehension\n",
        "a = { i : 0 for i in ['a','b','c']}\n",
        "print(a)\n",
        "\n",
        "a = dict.fromkeys('spam')\n",
        "print(a) #note dictionaries does not print 0 or null for empty collections instead it returns \"None\""
      ],
      "metadata": {
        "colab": {
          "base_uri": "https://localhost:8080/"
        },
        "id": "48iYxdcg0RZ0",
        "outputId": "6eafceff-9438-4d4e-dc9f-87ca98dab992"
      },
      "execution_count": 43,
      "outputs": [
        {
          "output_type": "stream",
          "name": "stdout",
          "text": [
            "{'a': 0, 'b': 0, 'c': 0}\n",
            "{'a': 0, 'b': 0, 'c': 0}\n",
            "{'s': None, 'p': None, 'a': None, 'm': None}\n"
          ]
        }
      ]
    },
    {
      "cell_type": "code",
      "source": [
        "#dictionary methods\n",
        "a = {'name' : \"bob\", \"age\" : 18, \"job\" : 'none'}\n",
        "\n",
        "print(a.items())\n",
        "print(a.keys()) #or print(a.viewkeys) both are same\n",
        "print(a.values()) #or print(a.viewvalues) both are same\n",
        "a.pop('age')\n",
        "print(a)\n",
        "b = a.copy()\n",
        "print(b)\n",
        "print(a.clear())\n",
        "\n",
        "print(str(b))\n",
        "print(len(b))"
      ],
      "metadata": {
        "colab": {
          "base_uri": "https://localhost:8080/"
        },
        "id": "jYJX2Vt61l9w",
        "outputId": "0de37250-fb53-44c4-85c6-2119d4247710"
      },
      "execution_count": 52,
      "outputs": [
        {
          "output_type": "stream",
          "name": "stdout",
          "text": [
            "dict_items([('name', 'bob'), ('age', 18), ('job', 'none')])\n",
            "dict_keys(['name', 'age', 'job'])\n",
            "dict_values(['bob', 18, 'none'])\n",
            "{'name': 'bob', 'job': 'none'}\n",
            "{'name': 'bob', 'job': 'none'}\n",
            "None\n",
            "{'name': 'bob', 'job': 'none'}\n",
            "2\n"
          ]
        }
      ]
    },
    {
      "cell_type": "code",
      "source": [
        "#Assignments recap\n",
        "\n",
        "(a,b,c) = \"ABC\"\n",
        "print(a,b,c)\n",
        "\n",
        "[a,b,c] = (1,2,3)\n",
        "print(a,b,c)\n",
        "\n",
        "seq = [1,2,3,4]\n",
        "a,b,c,d = seq\n",
        "print(a,b,c,d)\n",
        "\n",
        "a,*b = seq  #*b acts as reference to rest of the elements (acts as a list)\n",
        "print(a,b)\n",
        "\n",
        "a,b,*c = seq\n",
        "print(a,b,c)\n",
        "\n",
        "a,*b,c = \"SPAM\"\n",
        "print(a,b,c)\n"
      ],
      "metadata": {
        "colab": {
          "base_uri": "https://localhost:8080/"
        },
        "id": "dY5ubygR2yjw",
        "outputId": "515d8840-7845-4676-e557-1dabbdaa9922"
      },
      "execution_count": 61,
      "outputs": [
        {
          "output_type": "stream",
          "name": "stdout",
          "text": [
            "A B C\n",
            "1 2 3\n",
            "1 2 3 4\n",
            "1 [2, 3, 4]\n",
            "1 2 [3, 4]\n",
            "S ['P', 'A'] M\n"
          ]
        }
      ]
    },
    {
      "cell_type": "code",
      "source": [
        "#functions\n",
        "\n",
        "def greet(name):\n",
        "  print('hello!!  ' + name )\n",
        "\n",
        "greet('bob')\n",
        "\n",
        "def multiply(a,b):\n",
        "  return a * b\n",
        "\n",
        "a = multiply(2,2)\n",
        "print(a)\n",
        "\n",
        "def times(a,b):\n",
        "  return a * b\n",
        "\n",
        "b = times('Hi!! ', 5)\n",
        "print(b)"
      ],
      "metadata": {
        "colab": {
          "base_uri": "https://localhost:8080/"
        },
        "id": "JmyGOG5p6JCF",
        "outputId": "a964613a-c7d5-4f08-8805-299d1f2f742f"
      },
      "execution_count": 66,
      "outputs": [
        {
          "output_type": "stream",
          "name": "stdout",
          "text": [
            "hello!!  bob\n",
            "4\n",
            "Hi!! Hi!! Hi!! Hi!! Hi!! \n"
          ]
        }
      ]
    },
    {
      "cell_type": "code",
      "source": [
        "#intersection function\n",
        "\n",
        "a = [1,2,3,4,5]\n",
        "b= [1,2,3]\n",
        "\n",
        "def intersect(a,b):\n",
        "  result = [x for x in a if x in b]\n",
        "  return result\n",
        "\n",
        "result = intersect(a,b)\n",
        "print(result)\n",
        "\n",
        "#or\n",
        "\n",
        "a = \"SPAM\"\n",
        "b = \"SCAM\"\n",
        "\n",
        "def intersect1(a,b):\n",
        "  result = []\n",
        "  for x in a:\n",
        "    if x in b:\n",
        "      result.append(x)\n",
        "  return result\n",
        "\n",
        "\n",
        "result1 = intersect1(a,b)\n",
        "print(result1)"
      ],
      "metadata": {
        "colab": {
          "base_uri": "https://localhost:8080/"
        },
        "id": "du6Tfhl07crD",
        "outputId": "70777388-e11b-4ccf-cd4f-a67adfd25ab0"
      },
      "execution_count": 70,
      "outputs": [
        {
          "output_type": "stream",
          "name": "stdout",
          "text": [
            "[1, 2, 3]\n",
            "['S', 'A', 'M']\n"
          ]
        }
      ]
    },
    {
      "cell_type": "code",
      "source": [
        "#function in selection statement\n",
        "a = 6\n",
        "if a % 2 == 0:\n",
        "  def func():\n",
        "    print(\"even\")\n",
        "else:\n",
        "  def func():\n",
        "    print(\"odd\")\n",
        "\n",
        "func()\n"
      ],
      "metadata": {
        "colab": {
          "base_uri": "https://localhost:8080/"
        },
        "id": "3nuki6If8-TP",
        "outputId": "a721a81e-acf2-44a9-c743-5bceb5ed759a"
      },
      "execution_count": 72,
      "outputs": [
        {
          "output_type": "stream",
          "name": "stdout",
          "text": [
            "even\n"
          ]
        }
      ]
    }
  ]
}