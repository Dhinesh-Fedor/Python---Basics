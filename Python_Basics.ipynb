{
  "nbformat": 4,
  "nbformat_minor": 0,
  "metadata": {
    "colab": {
      "provenance": [],
      "toc_visible": true,
      "authorship_tag": "ABX9TyM8X8LNOXt56RLQs1Z2cVSe",
      "include_colab_link": true
    },
    "kernelspec": {
      "name": "python3",
      "display_name": "Python 3"
    },
    "language_info": {
      "name": "python"
    }
  },
  "cells": [
    {
      "cell_type": "markdown",
      "metadata": {
        "id": "view-in-github",
        "colab_type": "text"
      },
      "source": [
        "<a href=\"https://colab.research.google.com/github/Dhinesh-Fedor/Python---Basics/blob/main/Python_Basics.ipynb\" target=\"_parent\"><img src=\"https://colab.research.google.com/assets/colab-badge.svg\" alt=\"Open In Colab\"/></a>"
      ]
    },
    {
      "cell_type": "code",
      "execution_count": null,
      "metadata": {
        "colab": {
          "base_uri": "https://localhost:8080/"
        },
        "id": "PznnRfpZrgd2",
        "outputId": "d821166c-3e0b-4200-b56c-dfdd47bb89b9"
      },
      "outputs": [
        {
          "output_type": "stream",
          "name": "stdout",
          "text": [
            "40\n",
            "-20\n",
            "300\n",
            "0.3333333333333333\n",
            "0\n",
            "10\n",
            "1000000000000000000000000000000\n",
            "True\n",
            "False\n",
            "False\n",
            "True\n",
            "False\n",
            "True\n",
            "False\n",
            "True\n",
            "False\n",
            "1\n",
            "7\n",
            "6\n",
            "-6\n",
            "2\n",
            "10\n"
          ]
        }
      ],
      "source": [
        "#arithmetic operators\n",
        "a=10\n",
        "b=30\n",
        "print(a+b)\n",
        "print(a-b)\n",
        "print(a*b)\n",
        "print(a/b)\n",
        "print(a//b)\n",
        "print(a%b)\n",
        "print(a**b)\n",
        "\n",
        "\n",
        "#comparison operators\n",
        "print(a<=b)\n",
        "print(a>=b)\n",
        "print(a==b)\n",
        "print(a!=b)\n",
        "print(a>b)\n",
        "print(a<b)\n",
        "\n",
        "\n",
        "x = True\n",
        "y = False\n",
        "#logical operators\n",
        "print(x and y)\n",
        "print(x or y)\n",
        "print(not x)\n",
        "\n",
        "\n",
        "c = 5\n",
        "d = 3\n",
        "#bitwise operators\n",
        "print(c & d)\n",
        "print(c | d)\n",
        "print(c ^ d)\n",
        "print(~c)\n",
        "print(c >> 1)\n",
        "print(c << 1)\n",
        "\n",
        "\n",
        "\n",
        "\n"
      ]
    },
    {
      "cell_type": "code",
      "source": [
        "\n",
        "#matrix operations with numpy\n",
        "import  numpy as np\n",
        "\n",
        "#creating matrices\n",
        "mat1 = np.array([[1,2],[4,5]])\n",
        "mat2 = np.array([[7,8],[10,11]])\n",
        "print(\"Matrix 1\")\n",
        "print(mat1)\n",
        "print(\"\\n\")\n",
        "print(\"Matrix 2\")\n",
        "print(mat2)\n",
        "\n",
        "print(\"\\n\")\n",
        "#matrix addition\n",
        "print(\"addition\")\n",
        "mat_addition = mat1+mat2\n",
        "print(mat_addition)\n",
        "\n",
        "#matrix multiplication\n",
        "print(\"multiplication\")\n",
        "mat_multiply = np.matmul(mat1,mat2)\n",
        "print(mat_multiply)\n",
        "\n",
        "#matrix transpose\n",
        "print(\"transpose\")\n",
        "mat_transpose = np.transpose(mat1)\n",
        "print(mat_transpose)\n",
        "\n",
        "#creating a numpy matrix\n",
        "mat_random = np.array(matrix)\n",
        "\n",
        "#scalar multiplication\n",
        "print(\"scalar multiplication\")\n",
        "mat_scalar = mat1*3\n",
        "print(mat_scalar)\n",
        "\n",
        "\n",
        "\n"
      ],
      "metadata": {
        "colab": {
          "base_uri": "https://localhost:8080/",
          "height": 523
        },
        "id": "PBaqi_tfwrLw",
        "outputId": "53086985-433d-4ae1-edf6-856b026b92bc"
      },
      "execution_count": null,
      "outputs": [
        {
          "output_type": "stream",
          "name": "stdout",
          "text": [
            "Matrix 1\n",
            "[[1 2]\n",
            " [4 5]]\n",
            "\n",
            "\n",
            "Matrix 2\n",
            "[[ 7  8]\n",
            " [10 11]]\n",
            "\n",
            "\n",
            "addition\n",
            "[[ 8 10]\n",
            " [14 16]]\n",
            "multiplication\n",
            "[[27 30]\n",
            " [78 87]]\n",
            "transpose\n",
            "[[1 4]\n",
            " [2 5]]\n"
          ]
        },
        {
          "output_type": "error",
          "ename": "NameError",
          "evalue": "name 'matrix' is not defined",
          "traceback": [
            "\u001b[0;31m---------------------------------------------------------------------------\u001b[0m",
            "\u001b[0;31mNameError\u001b[0m                                 Traceback (most recent call last)",
            "\u001b[0;32m<ipython-input-17-f2e18f05bd43>\u001b[0m in \u001b[0;36m<cell line: 31>\u001b[0;34m()\u001b[0m\n\u001b[1;32m     29\u001b[0m \u001b[0;31m#creating a numpy matrix\u001b[0m\u001b[0;34m\u001b[0m\u001b[0;34m\u001b[0m\u001b[0m\n\u001b[1;32m     30\u001b[0m \u001b[0;34m\u001b[0m\u001b[0m\n\u001b[0;32m---> 31\u001b[0;31m \u001b[0mmat_random\u001b[0m \u001b[0;34m=\u001b[0m \u001b[0mnp\u001b[0m\u001b[0;34m.\u001b[0m\u001b[0marray\u001b[0m\u001b[0;34m(\u001b[0m\u001b[0mmatrix\u001b[0m\u001b[0;34m)\u001b[0m\u001b[0;34m\u001b[0m\u001b[0;34m\u001b[0m\u001b[0m\n\u001b[0m\u001b[1;32m     32\u001b[0m \u001b[0;34m\u001b[0m\u001b[0m\n",
            "\u001b[0;31mNameError\u001b[0m: name 'matrix' is not defined"
          ]
        }
      ]
    },
    {
      "cell_type": "code",
      "source": [
        "#lambda operator\n",
        "\n",
        "floc = lambda f:(f-32)*5.0/9\n",
        "print(floc(5))\n"
      ],
      "metadata": {
        "colab": {
          "base_uri": "https://localhost:8080/"
        },
        "id": "yUyVcWPgz6sz",
        "outputId": "18727e7a-525f-4677-f492-d31c620aa43a"
      },
      "execution_count": null,
      "outputs": [
        {
          "output_type": "stream",
          "name": "stdout",
          "text": [
            "-15.0\n"
          ]
        }
      ]
    },
    {
      "cell_type": "code",
      "source": [
        "#accepting user input\n",
        "a = int(input(\"enter num 1 : \"))\n",
        "b = int(input(\"enter num 2 : \"))\n",
        "\n",
        "c = a + b\n",
        "print(\"sum = \",c)"
      ],
      "metadata": {
        "colab": {
          "base_uri": "https://localhost:8080/"
        },
        "id": "6HN5SHiC0gqs",
        "outputId": "0aa7b169-488b-485d-de7e-78bea86485d3"
      },
      "execution_count": null,
      "outputs": [
        {
          "output_type": "stream",
          "name": "stdout",
          "text": [
            "enter num 1 : 1\n",
            "enter num 2 : 2\n",
            "sum =  3\n"
          ]
        }
      ]
    },
    {
      "cell_type": "markdown",
      "source": [
        "Problem 1 - get basic pay from the user and calculate da (80% of basic pay) , hra (30% of basic pay)"
      ],
      "metadata": {
        "id": "B-Ex21xk1VV4"
      }
    },
    {
      "cell_type": "code",
      "source": [
        "a = float(input(\"enter basic pay : \"))\n",
        "da = a*0.8\n",
        "hra = a*0.3\n",
        "print(\"da = \",da)\n",
        "print(\"hra = \",hra)"
      ],
      "metadata": {
        "id": "d4Fpn1jM07b6",
        "colab": {
          "base_uri": "https://localhost:8080/"
        },
        "outputId": "ff789e46-5c5f-4dc7-9ce9-f1dd7d8d8ce1"
      },
      "execution_count": null,
      "outputs": [
        {
          "output_type": "stream",
          "name": "stdout",
          "text": [
            "enter basic pay : 1000\n",
            "da =  800.0\n",
            "hra =  300.0\n"
          ]
        }
      ]
    }
  ]
}