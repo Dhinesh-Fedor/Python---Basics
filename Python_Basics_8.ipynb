{
  "nbformat": 4,
  "nbformat_minor": 0,
  "metadata": {
    "colab": {
      "provenance": [],
      "authorship_tag": "ABX9TyNxK9oXXCBzlm7yGAXucaQS",
      "include_colab_link": true
    },
    "kernelspec": {
      "name": "python3",
      "display_name": "Python 3"
    },
    "language_info": {
      "name": "python"
    }
  },
  "cells": [
    {
      "cell_type": "markdown",
      "metadata": {
        "id": "view-in-github",
        "colab_type": "text"
      },
      "source": [
        "<a href=\"https://colab.research.google.com/github/Dhinesh-Fedor/Python---Basics/blob/main/Python_Basics_8.ipynb\" target=\"_parent\"><img src=\"https://colab.research.google.com/assets/colab-badge.svg\" alt=\"Open In Colab\"/></a>"
      ]
    },
    {
      "cell_type": "code",
      "execution_count": 7,
      "metadata": {
        "id": "rawYIIzH3zIn",
        "colab": {
          "base_uri": "https://localhost:8080/"
        },
        "outputId": "8a4ebe4b-338b-46d1-97c3-cc998041373b"
      },
      "outputs": [
        {
          "output_type": "stream",
          "name": "stdout",
          "text": [
            "3\n",
            "three\n"
          ]
        }
      ],
      "source": [
        "#functions continuation\n",
        "\n",
        "def one():\n",
        "  print('one')\n",
        "def two():\n",
        "  print('two')\n",
        "def three():\n",
        "  print('three')\n",
        "\n",
        "a = int(input())\n",
        "if a == 1:\n",
        "  func_call = one\n",
        "elif a == 2:\n",
        "  func_call = two\n",
        "else:\n",
        "  func_call = three\n",
        "\n",
        "\n",
        "func_call()"
      ]
    },
    {
      "cell_type": "code",
      "source": [
        "#scope of variables\n",
        "# local, global => general scopes\n",
        "# LEGB rule => Local Enclosed Global Built-in\n",
        "\n",
        "\n",
        "x = 1 #global scope => can be accessed from anywhere\n",
        "\n",
        "def a(y):\n",
        "  z = x+y  # y and z are local to this function a(). x is global.\n",
        "  return z\n",
        "\n",
        "result = a(99)\n",
        "print(result)\n",
        "\n",
        "#the entire function is also global\n",
        "\n",
        "\n",
        "x = 2\n",
        "\n",
        "def b():\n",
        "  x = 3  #modifying it locally and doesnot affect globally (ie) modifications exists only inside the function.\n",
        "  print(x)\n",
        "\n",
        "b()\n",
        "print(x)\n",
        "\n"
      ],
      "metadata": {
        "colab": {
          "base_uri": "https://localhost:8080/"
        },
        "id": "Hh_QiXIi_r5w",
        "outputId": "e7e07a90-3431-40dd-9157-7e889b343dbb"
      },
      "execution_count": 10,
      "outputs": [
        {
          "output_type": "stream",
          "name": "stdout",
          "text": [
            "100\n",
            "3\n",
            "2\n"
          ]
        }
      ]
    }
  ]
}