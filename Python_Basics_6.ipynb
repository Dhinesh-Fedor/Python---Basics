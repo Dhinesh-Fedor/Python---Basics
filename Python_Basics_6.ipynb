{
  "nbformat": 4,
  "nbformat_minor": 0,
  "metadata": {
    "colab": {
      "provenance": [],
      "authorship_tag": "ABX9TyMOxHCS4P74Oll3KXo0ZC6V",
      "include_colab_link": true
    },
    "kernelspec": {
      "name": "python3",
      "display_name": "Python 3"
    },
    "language_info": {
      "name": "python"
    }
  },
  "cells": [
    {
      "cell_type": "markdown",
      "metadata": {
        "id": "view-in-github",
        "colab_type": "text"
      },
      "source": [
        "<a href=\"https://colab.research.google.com/github/Dhinesh-Fedor/Python---Basics/blob/main/Python_Basics_6.ipynb\" target=\"_parent\"><img src=\"https://colab.research.google.com/assets/colab-badge.svg\" alt=\"Open In Colab\"/></a>"
      ]
    },
    {
      "cell_type": "code",
      "execution_count": 21,
      "metadata": {
        "colab": {
          "base_uri": "https://localhost:8080/"
        },
        "id": "QvLzSpnf9Spt",
        "outputId": "cfc1281c-18d2-4e2c-df86-26c9082ff320"
      },
      "outputs": [
        {
          "output_type": "stream",
          "name": "stdout",
          "text": [
            "lolll\n",
            "(2, 4, 3, 1)\n",
            "('1', '2', 'lolll', 'spam', 2, 4, 3, 1)\n",
            "[1, 2, 3, 4]\n",
            "[2, 3, 4, 5]\n",
            "[2, 3, 4, 5]\n",
            "1\n",
            "5\n",
            "3\n",
            "(1, ['spam', 3], 2, 3)\n"
          ]
        }
      ],
      "source": [
        "#tuples => same as lists but enclosed within parantheses\n",
        "\n",
        "#creating a tuple\n",
        "tup = (\"1\",\"2\",\"lolll\",\"spam\")\n",
        "\n",
        "#creating an empty tuple\n",
        "tupEmpty = ()\n",
        "\n",
        "#accessing a tuple element\n",
        "print(tup[2])\n",
        "\n",
        "\n",
        "#converting list to tuple\n",
        "t = [2,4,3,1]\n",
        "tupEmpty = tuple(t)\n",
        "print(tupEmpty)\n",
        "\n",
        "\n",
        "#concatenation\n",
        "tup3 = tup+ tupEmpty\n",
        "print(tup3)\n",
        "\n",
        "#sorting a tuple\n",
        "tt = sorted(tupEmpty)\n",
        "print(tt)\n",
        "\n",
        "#List comprehension\n",
        "\n",
        "T = (1,2,3,4)\n",
        "\n",
        "L = [x + 1 for x in T]\n",
        "print(L)\n",
        "\n",
        "#or\n",
        "\n",
        "LL = []\n",
        "for i in T:\n",
        "  LL.append(i+1)\n",
        "\n",
        "print(LL)\n",
        "\n",
        "#index method => shows the index position of elements\n",
        "#variable.index(element)\n",
        "#variable.index(element,preceding element) => used when repeated elements are present\n",
        "\n",
        "D = (1,2,3,2,4,3)\n",
        "print(D.index(2))\n",
        "print(D.index(3,4))\n",
        "print(D.index(2,3))\n",
        "\n",
        "#count method => count the elements, how many times it is repeated\n",
        "D.count(2)\n",
        "\n",
        "#Nested tuples\n",
        "T = (1,[2,3],2,3)\n",
        "\n",
        "#T[1] = \"spam\" => throws error coz tuples are immutable\n",
        "\n",
        "T[1][0] = \"spam\" # works coz can change mutables(Lists) inside immutable object\n",
        "\n",
        "print(T)\n",
        "\n",
        "\n",
        "#deleting a tuple\n",
        "#del() method is used\n",
        "#note => since tuple is immutable you cant remove a particular element\n",
        "\n",
        "TTT = (1,2,3,4)\n",
        "del TTT #works\n",
        "#del TTT[1] => throws error\n",
        "\n",
        "\n"
      ]
    },
    {
      "cell_type": "code",
      "source": [
        "#packing and unpacking\n",
        "#Note => when packing , the number of packing objects should be same as number of items in the tuple\n",
        "\n",
        "t1 = (1,2,3,4,5) #packing\n",
        "print(t1)\n",
        "\n",
        "(a,b,c,d,e) = t1 #unpacking\n",
        "\n",
        "print(a)\n",
        "print(b)\n",
        "print(c)\n",
        "print(d)\n",
        "\n",
        "#packing and unpacking can be done in one statement\n",
        "(s1,s2,s3,s4,s5) = (1,2,3,4,5)\n",
        "print(s1)\n",
        "print(s2)\n",
        "print(s3)\n",
        "print(s4)"
      ],
      "metadata": {
        "colab": {
          "base_uri": "https://localhost:8080/"
        },
        "id": "VWChkLI-I2wR",
        "outputId": "2228b1be-908c-42a5-d1d8-04e19c3f47d8"
      },
      "execution_count": 16,
      "outputs": [
        {
          "output_type": "stream",
          "name": "stdout",
          "text": [
            "(1, 2, 3, 4, 5)\n",
            "1\n",
            "2\n",
            "3\n",
            "4\n",
            "1\n",
            "2\n",
            "3\n",
            "4\n"
          ]
        }
      ]
    },
    {
      "cell_type": "code",
      "source": [
        "#another way of creating tuples\n",
        "\n",
        "tuple1,tuple2,tuple3 = (1,2),(3,4),(5,6)\n",
        "\n",
        "#length method\n",
        "print(len(tuple2))\n",
        "\n",
        "#min and max method => gives min and max element\n",
        "print(min(tuple2))\n",
        "print(max(tuple3))"
      ],
      "metadata": {
        "colab": {
          "base_uri": "https://localhost:8080/"
        },
        "id": "pJRutVa2KmpB",
        "outputId": "992d123d-07b6-4378-f95d-4af371e21b42"
      },
      "execution_count": 19,
      "outputs": [
        {
          "output_type": "stream",
          "name": "stdout",
          "text": [
            "2\n",
            "3\n",
            "6\n"
          ]
        }
      ]
    },
    {
      "cell_type": "code",
      "source": [
        "#Sets => unordered collection\n",
        "# it is mutable\n",
        "# should no contain duplicates\n",
        "# are iterable , can grow and shrink and can have variety of object types\n",
        "# doesnot support indexing\n",
        "\n",
        "#creating a seet\n",
        "a = {1,2,3,4}\n",
        "print(a)\n",
        "\n",
        "#set method\n",
        "x = set('spam')\n",
        "print(x)\n",
        "\n",
        "#add method => works like append\n",
        "x.add('alot')\n",
        "print(x)"
      ],
      "metadata": {
        "colab": {
          "base_uri": "https://localhost:8080/"
        },
        "id": "8eLMBnvTL-rh",
        "outputId": "3797476b-7514-4e05-88ac-0e512f414981"
      },
      "execution_count": 33,
      "outputs": [
        {
          "output_type": "stream",
          "name": "stdout",
          "text": [
            "{1, 2, 3, 4}\n",
            "{'p', 'a', 'm', 's'}\n",
            "{'m', 'p', 'alot', 'a', 's'}\n"
          ]
        }
      ]
    },
    {
      "cell_type": "code",
      "source": [
        "#Set operations\n",
        "\n",
        "s = {1,2,3,4}\n",
        "b = {1,2}\n",
        "\n",
        "#union (|)\n",
        "q = s | b\n",
        "print(q)\n",
        "\n",
        "#intersection (&)\n",
        "q = s & b\n",
        "print(q)\n",
        "\n",
        "#difference (-)\n",
        "q = s - b\n",
        "print(q)\n",
        "\n",
        "#super set (>)\n",
        "q = s > b\n",
        "print(q)\n",
        "\n",
        "q = s - set([1,2,3,4])\n",
        "print(q) #returns empty set - set()\n",
        "\n"
      ],
      "metadata": {
        "colab": {
          "base_uri": "https://localhost:8080/"
        },
        "id": "_k01oMrqNsQp",
        "outputId": "5d1a7da0-7ea5-435b-e251-31ba820848bf"
      },
      "execution_count": 36,
      "outputs": [
        {
          "output_type": "stream",
          "name": "stdout",
          "text": [
            "{1, 2, 3, 4}\n",
            "{1, 2}\n",
            "{3, 4}\n",
            "True\n",
            "set()\n"
          ]
        }
      ]
    }
  ]
}