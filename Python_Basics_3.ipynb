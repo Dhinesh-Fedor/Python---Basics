{
  "nbformat": 4,
  "nbformat_minor": 0,
  "metadata": {
    "colab": {
      "provenance": [],
      "authorship_tag": "ABX9TyOCR0sBAGi0edq7jUfoNlc/",
      "include_colab_link": true
    },
    "kernelspec": {
      "name": "python3",
      "display_name": "Python 3"
    },
    "language_info": {
      "name": "python"
    }
  },
  "cells": [
    {
      "cell_type": "markdown",
      "metadata": {
        "id": "view-in-github",
        "colab_type": "text"
      },
      "source": [
        "<a href=\"https://colab.research.google.com/github/Dhinesh-Fedor/Python---Basics/blob/main/Python_Basics_3.ipynb\" target=\"_parent\"><img src=\"https://colab.research.google.com/assets/colab-badge.svg\" alt=\"Open In Colab\"/></a>"
      ]
    },
    {
      "cell_type": "code",
      "execution_count": 38,
      "metadata": {
        "colab": {
          "base_uri": "https://localhost:8080/"
        },
        "id": "nFlgZaD1_mdj",
        "outputId": "a86b04ea-da0f-46b1-b871-4bb06050f566"
      },
      "outputs": [
        {
          "output_type": "stream",
          "name": "stdout",
          "text": [
            "1 2 bob 2 5 \n",
            "sample 3\n",
            "[1, 2, 'bob', 2, 5, 'sample', 'sample 2', 'sample 3']\n",
            "['bob', 2, 5, 'sample', 'sample 2']\n",
            "['sample', 'updated sample', 'sample 3']\n",
            "[1, 2, 2, 5, 'sample', 'sample 2', 'sample 3']\n",
            "True\n",
            "['1', '2', '3']\n",
            "[0, 3, 3, 5, 6, 9, 22]\n",
            "['ABC', 'aUbA', 'bcb', 'SAS']\n",
            "['SAS', 'bcb', 'aUbA', 'ABC']\n",
            "['SSSS', 'PPPP', 'AAAA', 'MMMM']\n",
            "['SSS', 'PPP', 'AAA', 'MMM']\n"
          ]
        }
      ],
      "source": [
        "#creating a list\n",
        "#syntax => list_name = [item1,item2....]\n",
        "\n",
        "a  = [] #empty list\n",
        "\n",
        "b = [1,2,'bob',2,5]\n",
        "\n",
        "#accessing the list\n",
        "for i in b:\n",
        "  print(i,end = ' ')\n",
        "\n",
        "\n",
        "#qppend operation\n",
        "a.append('sample')\n",
        "a.append('sample 2')\n",
        "a.append('sample 3')\n",
        "\n",
        "print()\n",
        "#accessing the list through index\n",
        "print(a[2]) #will print sample 3\n",
        "\n",
        "c = []\n",
        "c.extend(b)\n",
        "c.extend(a)\n",
        "print(c)\n",
        "\n",
        "#slicing\n",
        "print(c[2:7])\n",
        "\n",
        "#updating an existing element\n",
        "a[1] = 'updated sample'\n",
        "print(a)\n",
        "\n",
        "#deleting an element\n",
        "#del keyword is used\n",
        "del c[2]\n",
        "print(c)\n",
        "\n",
        "#inserting elements\n",
        "#insert(index,item) method is used\n",
        "a.insert(2,'inserted')\n",
        "\n",
        "#checking an element is present or not\n",
        "print('sample' in c)\n",
        "\n",
        "#remove method\n",
        "a.remove('sample')\n",
        "\n",
        "#pop method\n",
        "c.pop(3)\n",
        "\n",
        "#map\n",
        "o_lst = [1,2,3]\n",
        "\n",
        "def strrr(a):\n",
        "  return str(a)\n",
        "\n",
        "f_lst = list(map(strrr,o_lst))\n",
        "print(f_lst)\n",
        "\n",
        "#sorting\n",
        "#sort() method is used for sorting\n",
        "r = [3,5,9,0,22,3,6]\n",
        "r.sort()\n",
        "print(r)\n",
        "\n",
        "r1= ['bcb','SAS','aUbA','ABC']\n",
        "r1.sort(key=str.lower)\n",
        "print(r1)\n",
        "\n",
        "r2= ['bcb','SAS','aUbA','ABC']\n",
        "r2.sort(key=str.lower,reverse = True)\n",
        "print(r2)\n",
        "\n",
        "\n",
        "#list comprehensions\n",
        "\n",
        "res = [i*4 for i in 'SPAM']\n",
        "print(res)\n",
        "\n",
        "res1 = []\n",
        "\n",
        "for  i in 'SPAM':\n",
        "  res1.append(i*3)\n",
        "\n",
        "print(res1)"
      ]
    }
  ]
}