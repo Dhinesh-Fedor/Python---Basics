{
  "nbformat": 4,
  "nbformat_minor": 0,
  "metadata": {
    "colab": {
      "provenance": [],
      "authorship_tag": "ABX9TyNTcLWOMfUJUXBClKnnKkw3",
      "include_colab_link": true
    },
    "kernelspec": {
      "name": "python3",
      "display_name": "Python 3"
    },
    "language_info": {
      "name": "python"
    }
  },
  "cells": [
    {
      "cell_type": "markdown",
      "metadata": {
        "id": "view-in-github",
        "colab_type": "text"
      },
      "source": [
        "<a href=\"https://colab.research.google.com/github/Dhinesh-Fedor/Python---Basics/blob/main/Python_Basics_3.ipynb\" target=\"_parent\"><img src=\"https://colab.research.google.com/assets/colab-badge.svg\" alt=\"Open In Colab\"/></a>"
      ]
    },
    {
      "cell_type": "code",
      "execution_count": 1,
      "metadata": {
        "colab": {
          "base_uri": "https://localhost:8080/"
        },
        "id": "nFlgZaD1_mdj",
        "outputId": "ee57ab71-735f-4432-8ac1-8c5ac0212cc8"
      },
      "outputs": [
        {
          "output_type": "stream",
          "name": "stdout",
          "text": [
            "1\n",
            "2\n",
            "bob\n",
            "2\n",
            "5\n"
          ]
        }
      ],
      "source": [
        "#creating a list\n",
        "#syntax => list_name = []\n",
        "\n",
        "a  = [] #empty list\n",
        "\n",
        "b = [1,2,'bob',2,5]\n",
        "\n",
        "#accessing the list\n",
        "for i in b:\n",
        "  print(i,end = ' ')\n",
        "\n",
        "\n",
        "#qppend operation\n",
        "\n"
      ]
    }
  ]
}