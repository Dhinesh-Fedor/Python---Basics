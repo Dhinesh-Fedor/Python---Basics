{
  "nbformat": 4,
  "nbformat_minor": 0,
  "metadata": {
    "colab": {
      "provenance": [],
      "authorship_tag": "ABX9TyPjUU+3+fCy742mMhAs1tlQ",
      "include_colab_link": true
    },
    "kernelspec": {
      "name": "python3",
      "display_name": "Python 3"
    },
    "language_info": {
      "name": "python"
    }
  },
  "cells": [
    {
      "cell_type": "markdown",
      "metadata": {
        "id": "view-in-github",
        "colab_type": "text"
      },
      "source": [
        "<a href=\"https://colab.research.google.com/github/Dhinesh-Fedor/Python---Basics/blob/main/IPS.ipynb\" target=\"_parent\"><img src=\"https://colab.research.google.com/assets/colab-badge.svg\" alt=\"Open In Colab\"/></a>"
      ]
    },
    {
      "cell_type": "markdown",
      "source": [
        "IPS-2\n",
        "\n",
        "Problem Description:\n",
        "Given a number n. Find the sum of ‘n’ odd numbers and print\n",
        "the odd series.\n",
        "\n",
        "For example:\n",
        "\n",
        "\n",
        "Input:\n",
        "\n",
        "i) Number n=8\n",
        "\n",
        "Series: 2 4 6 7 8 9 11 3\n",
        "\n",
        "Output:\n",
        "\n",
        "Odd Series: 3 7 9 11\n",
        "\n",
        "Odd Sum: 30\n",
        "\n",
        "Input:\n",
        "\n",
        "ii) Number n=5\n",
        "\n",
        "Series: 1 2 7 3 9\n",
        "\n",
        "Output:\n",
        "\n",
        "Odd Series: 1 3 7 9\n",
        "\n",
        "Odd Sum: 20\n",
        "\n"
      ],
      "metadata": {
        "id": "RqIhaHXOTEap"
      }
    },
    {
      "cell_type": "code",
      "source": [
        "n = int(input())\n",
        "b = []\n",
        "\n",
        "if n < 0 or n == 100:\n",
        "  print(\"invalid parameter\")\n",
        "\n",
        "else:\n",
        "  for i in range(n):\n",
        "    a = int(input())\n",
        "    b.append(a)\n",
        "\n",
        "  odd = []\n",
        "  for i in b:\n",
        "    if i % 2 != 0:\n",
        "      odd.append(i)\n",
        "  sum = 0\n",
        "  for i in odd:\n",
        "    sum = sum + i\n",
        "\n",
        "  odd.sort()\n",
        "  print(odd)\n",
        "  print(\"sum of odd series = \",sum)\n"
      ],
      "metadata": {
        "colab": {
          "base_uri": "https://localhost:8080/"
        },
        "id": "KrGT70rfS5N6",
        "outputId": "0dfc940a-5813-4e55-d9d8-943531241896"
      },
      "execution_count": 2,
      "outputs": [
        {
          "output_type": "stream",
          "name": "stdout",
          "text": [
            "8\n",
            "2\n",
            "4\n",
            "6\n",
            "7\n",
            "8\n",
            "9\n",
            "11\n",
            "3\n",
            "[3, 7, 9, 11]\n",
            "sum of odd series =  30\n"
          ]
        }
      ]
    },
    {
      "cell_type": "markdown",
      "source": [
        "IPS-3:\n",
        "\n",
        "Problem Description:\n",
        "\n",
        "Strong numbers are said to be “sum of the factorial of each digit of a given number is equal to the original number”.\n",
        "\n",
        "Write an algorithm and the subsequent Python code to check if the given number is a Strong number or not.\n",
        "\n",
        "For example,\n",
        "\n",
        "(i) 145 is a Strong number with a sum of factors(1!+4!+5!=145) of each digit equals the\n",
        "original number.\n",
        "\n",
        "(ii) 123 is not a Strong number with a sum of\n",
        "factors(1!+2!+3!=9) of each digit is not equals the\n",
        "original number.\n",
        "\n",
        "(iii) 2 is a Strong number with a sum of\n",
        "factors(2!=1X2=2) of each digit equals the original\n",
        "number."
      ],
      "metadata": {
        "id": "-9UmFx7ubfgn"
      }
    },
    {
      "cell_type": "code",
      "source": [
        "import math as m\n",
        "\n",
        "a = input()\n",
        "\n",
        "sum = 0\n",
        "for i in a:\n",
        "  sum = sum + m.factorial(int(i))\n",
        "\n",
        "if sum == int(a):\n",
        "  print(\"Strong Number\")\n",
        "\n",
        "else:\n",
        "  print(\"Not a Strong Number\")\n"
      ],
      "metadata": {
        "colab": {
          "base_uri": "https://localhost:8080/"
        },
        "id": "7ms00ZMWaJJv",
        "outputId": "90acbeef-0918-43dc-bab3-2624ecefc37c"
      },
      "execution_count": 6,
      "outputs": [
        {
          "output_type": "stream",
          "name": "stdout",
          "text": [
            "123\n",
            "Not a Strong Number\n"
          ]
        }
      ]
    }
  ]
}