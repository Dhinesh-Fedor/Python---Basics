{
  "nbformat": 4,
  "nbformat_minor": 0,
  "metadata": {
    "colab": {
      "provenance": [],
      "authorship_tag": "ABX9TyPDkTvgdwLWLuUJ+C0PWFfE",
      "include_colab_link": true
    },
    "kernelspec": {
      "name": "python3",
      "display_name": "Python 3"
    },
    "language_info": {
      "name": "python"
    }
  },
  "cells": [
    {
      "cell_type": "markdown",
      "metadata": {
        "id": "view-in-github",
        "colab_type": "text"
      },
      "source": [
        "<a href=\"https://colab.research.google.com/github/Dhinesh-Fedor/Python---Basics/blob/main/Python_Basics_5_Regex.ipynb\" target=\"_parent\"><img src=\"https://colab.research.google.com/assets/colab-badge.svg\" alt=\"Open In Colab\"/></a>"
      ]
    },
    {
      "cell_type": "code",
      "execution_count": 2,
      "metadata": {
        "colab": {
          "base_uri": "https://localhost:8080/"
        },
        "id": "lSio9XnSzzX4",
        "outputId": "71588a7d-d068-406a-e099-b3f170808161"
      },
      "outputs": [
        {
          "output_type": "stream",
          "name": "stdout",
          "text": [
            "Not Matched\n"
          ]
        }
      ],
      "source": [
        "#regex - regular expressions\n",
        "\n",
        "#example -1\n",
        "\n",
        "import re #importing regex\n",
        "if re.match(\"f.o\",\"foo\"): #in place of (.) any character except \\n can be placed\n",
        "  print(\"Matched\")\n",
        "else:\n",
        "  print(\"Not Matched\")"
      ]
    },
    {
      "cell_type": "code",
      "source": [
        "#example - 2\n",
        "if re.match(\"f.o$\",\"foo\"): #.(sequence)$ excepts exactly the same sequence need to be present in the string\n",
        "  print(\"Matched\")\n",
        "else:\n",
        "  print(\"Not Matched\")"
      ],
      "metadata": {
        "colab": {
          "base_uri": "https://localhost:8080/"
        },
        "id": "Nq2PSEbb9CAA",
        "outputId": "a7ec96fd-5931-4da5-b518-0a45d345c2f7"
      },
      "execution_count": 14,
      "outputs": [
        {
          "output_type": "stream",
          "name": "stdout",
          "text": [
            "Matched\n"
          ]
        }
      ]
    },
    {
      "cell_type": "code",
      "source": [
        "#example - 3\n",
        "\n",
        "if re.match(\"..$\",\"fo\"): #..$ expects only two characters need to be there\n",
        "  print(\"Matched\")\n",
        "else:\n",
        "  print(\"Not Matched\")"
      ],
      "metadata": {
        "colab": {
          "base_uri": "https://localhost:8080/"
        },
        "id": "KxcxfhC39h84",
        "outputId": "3687d82f-f481-4b3d-d58a-360120b49887"
      },
      "execution_count": 19,
      "outputs": [
        {
          "output_type": "stream",
          "name": "stdout",
          "text": [
            "Not Matched\n"
          ]
        }
      ]
    },
    {
      "cell_type": "code",
      "source": [
        "#example - 4\n",
        "\n",
        "if re.match(\"..\",\"fooo\"): #.. expects minimum of two characters in the string\n",
        "  print(\"Matched\")\n",
        "else:\n",
        "  print(\"Not Matched\")"
      ],
      "metadata": {
        "colab": {
          "base_uri": "https://localhost:8080/"
        },
        "id": "IjyST2T999pY",
        "outputId": "0f303909-724d-42b4-e54d-e1287e2c3dff"
      },
      "execution_count": 15,
      "outputs": [
        {
          "output_type": "stream",
          "name": "stdout",
          "text": [
            "Matched\n"
          ]
        }
      ]
    },
    {
      "cell_type": "code",
      "source": [
        "#example - 5\n",
        "if re.match(\".end\",\"bend\"): #.(sequence) checks for same sequence in the string\n",
        "  print(\"Matched\")\n",
        "else:\n",
        "  print(\"Not Matched\")"
      ],
      "metadata": {
        "colab": {
          "base_uri": "https://localhost:8080/"
        },
        "id": "LKgtnmXo-HVA",
        "outputId": "ac7d503f-74ad-404a-8693-1a3ff704b284"
      },
      "execution_count": 18,
      "outputs": [
        {
          "output_type": "stream",
          "name": "stdout",
          "text": [
            "Matched\n"
          ]
        }
      ]
    },
    {
      "cell_type": "code",
      "source": [
        "#example - 5\n",
        "if re.match(\".end\",\"bends\"): #.(sequence) checks for same sequence in the string\n",
        "  print(\"Matched\")\n",
        "else:\n",
        "  print(\"Not Matched\")"
      ],
      "metadata": {
        "colab": {
          "base_uri": "https://localhost:8080/"
        },
        "id": "0Ik3BeASCjQY",
        "outputId": "7f748fe4-9585-4991-af00-9dcb4af47815"
      },
      "execution_count": 25,
      "outputs": [
        {
          "output_type": "stream",
          "name": "stdout",
          "text": [
            "Matched\n"
          ]
        }
      ]
    },
    {
      "cell_type": "code",
      "source": [
        "#example - 6\n",
        "if re.match(\".end$\",\"bends\"): #.(sequence)$ excepts exactly the same sequence need to be present in the string\n",
        "  print(\"Matched\")\n",
        "else:\n",
        "  print(\"Not Matched\")"
      ],
      "metadata": {
        "colab": {
          "base_uri": "https://localhost:8080/"
        },
        "id": "FjY7MRvK-xqI",
        "outputId": "e736f199-531a-4580-8a98-56ea696a455f"
      },
      "execution_count": 26,
      "outputs": [
        {
          "output_type": "stream",
          "name": "stdout",
          "text": [
            "Not Matched\n"
          ]
        }
      ]
    },
    {
      "cell_type": "code",
      "source": [
        "#matching VIT register number\n",
        "\n",
        "register = input()\n",
        "\n",
        "if re.match(\"^[1-9][0-9][a-zA-Z]{3}[0-9]{4}$\",register): #^string - matches the start\n",
        "  print(\"Matched\")\n",
        "else:\n",
        "  print(\"Not Matched\")\n",
        "\n",
        "#or\n",
        "\n",
        "register1 = input()\n",
        "\n",
        "if re.match(\"^[1-9][0-9][a-zA-Z][a-zA-Z][a-zA-Z][0-9][0-9][0-9][0-9]$\",register1):\n",
        "  print(\"Matched\")\n",
        "else:\n",
        "  print(\"Not Matched\")\n"
      ],
      "metadata": {
        "colab": {
          "base_uri": "https://localhost:8080/"
        },
        "id": "QS86BQKH_c5R",
        "outputId": "613af443-68cd-4ab5-97ee-7ec6a0bef2f9"
      },
      "execution_count": 34,
      "outputs": [
        {
          "output_type": "stream",
          "name": "stdout",
          "text": [
            "23mia1102\n",
            "Matched\n",
            "23mia11021\n",
            "Not Matched\n"
          ]
        }
      ]
    },
    {
      "cell_type": "code",
      "source": [
        "#matching PAN number\n",
        "\n",
        "PAN = input()\n",
        "\n",
        "if len(PAN)!= 10 and len(PAN)<10:\n",
        "  print(\"Not Matched\")\n",
        "elif re.match(\"[a-zA-Z]{5}[0-9]{4}[a-zA-Z]\",PAN):\n",
        "  print(\"Matched\")\n",
        "else:\n",
        "  print(\"Not Matched\")"
      ],
      "metadata": {
        "colab": {
          "base_uri": "https://localhost:8080/"
        },
        "id": "YVn9ED8hA3kY",
        "outputId": "ff4d8d22-30a1-4994-a1d7-109218a7b2be"
      },
      "execution_count": 30,
      "outputs": [
        {
          "output_type": "stream",
          "name": "stdout",
          "text": [
            "1asce3421e\n",
            "Not Matched\n"
          ]
        }
      ]
    },
    {
      "cell_type": "code",
      "source": [
        "#matching mobile number\n",
        "\n",
        "number = input()\n",
        "\n",
        "if re.match(\"[1-9]{10}$\",number):\n",
        "  print(\"Matched\")\n",
        "else:\n",
        "  print(\"Not Matched\")"
      ],
      "metadata": {
        "colab": {
          "base_uri": "https://localhost:8080/"
        },
        "id": "3aMs8RsRBwng",
        "outputId": "2b722c1b-ed4b-4a46-a870-8f57f1205bbe"
      },
      "execution_count": 38,
      "outputs": [
        {
          "output_type": "stream",
          "name": "stdout",
          "text": [
            "1234567899\n",
            "Matched\n"
          ]
        }
      ]
    },
    {
      "cell_type": "code",
      "source": [
        "#replace a substring\n",
        "\n",
        "a = \"substring\"\n",
        "\n",
        "c = re.sub(r'string','newstring',a)\n",
        "print(c)\n",
        "\n",
        "\n",
        "b = \"substring 5 and 5\"\n",
        "\n",
        "d  = re.sub(r'5','five',b,count = 1)\n",
        "print(d)"
      ],
      "metadata": {
        "colab": {
          "base_uri": "https://localhost:8080/"
        },
        "id": "lkqImx--JmXR",
        "outputId": "cfb20555-1b96-4545-e770-c4e11ee1feea"
      },
      "execution_count": 56,
      "outputs": [
        {
          "output_type": "stream",
          "name": "stdout",
          "text": [
            "subnewstring\n",
            "substring five and 5\n"
          ]
        }
      ]
    },
    {
      "cell_type": "code",
      "source": [
        "# for the given list ,filter all elements that contain seither a or w\n",
        "\n",
        "list = ['goat','write','bot','wall']\n",
        "\n",
        "[w for w in list if re.search(r'a',w) or re.search(r'w',w)]\n"
      ],
      "metadata": {
        "colab": {
          "base_uri": "https://localhost:8080/"
        },
        "id": "3bx_YH7EMnxJ",
        "outputId": "f56d57bc-3825-4e14-b24e-77f467061e93"
      },
      "execution_count": 60,
      "outputs": [
        {
          "output_type": "execute_result",
          "data": {
            "text/plain": [
              "['goat', 'write', 'wall']"
            ]
          },
          "metadata": {},
          "execution_count": 60
        }
      ]
    }
  ]
}