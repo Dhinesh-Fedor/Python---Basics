{
  "nbformat": 4,
  "nbformat_minor": 0,
  "metadata": {
    "colab": {
      "provenance": [],
      "authorship_tag": "ABX9TyOlaez+231Gp97nKiqzfkog",
      "include_colab_link": true
    },
    "kernelspec": {
      "name": "python3",
      "display_name": "Python 3"
    },
    "language_info": {
      "name": "python"
    }
  },
  "cells": [
    {
      "cell_type": "markdown",
      "metadata": {
        "id": "view-in-github",
        "colab_type": "text"
      },
      "source": [
        "<a href=\"https://colab.research.google.com/github/Dhinesh-Fedor/Python---Basics/blob/main/Python_Basics_11(NumPy-3).ipynb\" target=\"_parent\"><img src=\"https://colab.research.google.com/assets/colab-badge.svg\" alt=\"Open In Colab\"/></a>"
      ]
    },
    {
      "cell_type": "code",
      "execution_count": 8,
      "metadata": {
        "colab": {
          "base_uri": "https://localhost:8080/"
        },
        "id": "D1OtKCNaDz7b",
        "outputId": "7c26421e-8603-4a6b-c5f0-a280fd332e8f"
      },
      "outputs": [
        {
          "output_type": "stream",
          "name": "stdout",
          "text": [
            "[[1 2 3]\n",
            " [5 6 7]\n",
            " [4 7 8]]\n",
            "9\n",
            "8\n",
            "int64\n",
            "7.999999999999995\n",
            "3\n"
          ]
        }
      ],
      "source": [
        "#Linear Algebra (numpy.linalg)\n",
        "\n",
        "import numpy as n\n",
        "\n",
        "a = n.matrix('1,2,3;5,6,7;4,7,8')\n",
        "print(a)\n",
        "\n",
        "print(a.size)\n",
        "print(a.itemsize)\n",
        "print(a.dtype)\n",
        "\n",
        "#finding determinant\n",
        "det = n.linalg.det(a)\n",
        "print(det)\n",
        "\n",
        "#finding rank\n",
        "rank = n.linalg.matrix_rank(a)\n",
        "print(rank)"
      ]
    },
    {
      "cell_type": "code",
      "source": [
        "#Solving linaar equations\n",
        "\n",
        "#3x+2y+3z = 1, 2x-3y+z = 2, 4x+8y+5z = 2\n",
        "a = n.matrix('3,2,3;2,-3,1;4,8,5')\n",
        "b = n.matrix('1;2;2')\n",
        "\n",
        "c = n.linalg.solve(a,b)\n",
        "print(\"Solution:\\n\",c)"
      ],
      "metadata": {
        "colab": {
          "base_uri": "https://localhost:8080/"
        },
        "id": "dSERs7hULJit",
        "outputId": "e007f03c-ec14-44d7-87b2-3c591c60a68b"
      },
      "execution_count": 12,
      "outputs": [
        {
          "output_type": "stream",
          "name": "stdout",
          "text": [
            "Solution:\n",
            " [[  9.]\n",
            " [  2.]\n",
            " [-10.]]\n"
          ]
        }
      ]
    },
    {
      "cell_type": "code",
      "source": [
        "#Qr decomposition\n",
        "a = n.matrix('1,2,3;5,6,7;4,7,8')\n",
        "q ,r = n.linalg.qr(a) #q => orthogonal matrix and r => upper triangle matrix\n",
        "print(q)\n",
        "print(\"\\n\",r)\n",
        "print(r.dtype)\n",
        "print(\"\\n\",r.astype(int))\n"
      ],
      "metadata": {
        "colab": {
          "base_uri": "https://localhost:8080/"
        },
        "id": "-Ikf1ZsmM0U9",
        "outputId": "c34d4c4c-0ed8-401a-9de7-b51fe42aaa59"
      },
      "execution_count": 20,
      "outputs": [
        {
          "output_type": "stream",
          "name": "stdout",
          "text": [
            "[[-0.15430335  0.31524416 -0.93638218]\n",
            " [-0.77151675 -0.63048832 -0.08512565]\n",
            " [-0.6172134   0.70929937  0.34050261]]\n",
            "\n",
            " [[ -6.4807407   -9.258201   -10.8012345 ]\n",
            " [  0.           1.81265393   2.20670914]\n",
            " [  0.           0.          -0.68100522]]\n",
            "float64\n",
            "\n",
            " [[ -6  -9 -10]\n",
            " [  0   1   2]\n",
            " [  0   0   0]]\n"
          ]
        }
      ]
    },
    {
      "cell_type": "code",
      "source": [
        "#Single Valued Decomposition (SVD)\n",
        "\n",
        "a = n.random.randn(1,9)\n",
        "print(a)\n",
        "\n",
        "u,s,vh = n.linalg.svd(a)\n",
        "print(u)\n",
        "print(s)\n",
        "print(vh)\n"
      ],
      "metadata": {
        "colab": {
          "base_uri": "https://localhost:8080/"
        },
        "id": "Xzl3F7nPO5EM",
        "outputId": "ec0a477c-499e-4bb5-ead7-9d19465b7f1a"
      },
      "execution_count": 22,
      "outputs": [
        {
          "output_type": "stream",
          "name": "stdout",
          "text": [
            "[[ 1.70562301 -0.38116991  1.47988677 -0.8936861   2.45559395 -0.16488234\n",
            "  -0.42694606  0.17469476  1.28459918]]\n",
            "[[-1.]]\n",
            "[3.73675048]\n",
            "[[-0.45644552  0.10200572 -0.39603575  0.2391613  -0.65714689  0.04412452\n",
            "   0.11425597 -0.04675045 -0.34377441]\n",
            " [ 0.10200572  0.99285578  0.02773733 -0.01675025  0.04602489 -0.00309037\n",
            "  -0.0080022   0.00327428  0.02407708]\n",
            " [-0.39603575  0.02773733  0.89231021  0.06503259 -0.17869097  0.01199831\n",
            "   0.03106841 -0.01271235 -0.09347892]\n",
            " [ 0.2391613  -0.01675025  0.06503259  0.96072759  0.10790936 -0.00724564\n",
            "  -0.01876185  0.00767684  0.05645081]\n",
            " [-0.65714689  0.04602489 -0.17869097  0.10790936  0.70349592  0.01990895\n",
            "   0.05155219 -0.02109376 -0.1551107 ]\n",
            " [ 0.04412452 -0.00309037  0.01199831 -0.00724564  0.01990895  0.9986632\n",
            "  -0.0034615   0.00141635  0.010415  ]\n",
            " [ 0.11425597 -0.0080022   0.03106841 -0.01876185  0.05155219 -0.0034615\n",
            "   0.99103679  0.0036675   0.02696859]\n",
            " [-0.04675045  0.00327428 -0.01271235  0.00767684 -0.02109376  0.00141635\n",
            "   0.0036675   0.99849936 -0.01103482]\n",
            " [-0.34377441  0.02407708 -0.09347892  0.05645081 -0.1551107   0.010415\n",
            "   0.02696859 -0.01103482  0.91885667]]\n"
          ]
        }
      ]
    },
    {
      "cell_type": "code",
      "source": [
        "#Compute eigen values\n",
        "\n",
        "a = n.matrix('1,2,3;5,6,7;4,7,8')\n",
        "eig = n.linalg.eigvals(a)\n",
        "print(eig)"
      ],
      "metadata": {
        "colab": {
          "base_uri": "https://localhost:8080/"
        },
        "id": "s0z7q_GfPe3N",
        "outputId": "2dd4c628-9057-4bf2-8f0b-f2d1e76b1656"
      },
      "execution_count": 23,
      "outputs": [
        {
          "output_type": "stream",
          "name": "stdout",
          "text": [
            "[15.60940882+0.j         -0.30470441+0.64781681j -0.30470441-0.64781681j]\n"
          ]
        }
      ]
    },
    {
      "cell_type": "code",
      "source": [
        "#Eigen Value Decomposition\n",
        "\n",
        "a = n.matrix('1,2,3;5,6,7;4,7,8')\n",
        "w , v = n.linalg.eig(a)\n",
        "print(w) #w => eigen values\n",
        "print(v) #v => eigen vectors"
      ],
      "metadata": {
        "colab": {
          "base_uri": "https://localhost:8080/"
        },
        "id": "p6RsfXsgP1Mb",
        "outputId": "5e847238-37fd-4adb-d4ac-cc0ad63aac74"
      },
      "execution_count": 24,
      "outputs": [
        {
          "output_type": "stream",
          "name": "stdout",
          "text": [
            "[15.60940882+0.j         -0.30470441+0.64781681j -0.30470441-0.64781681j]\n",
            "[[ 0.23725269+0.j          0.25506239-0.42921184j  0.25506239+0.42921184j]\n",
            " [ 0.64960993+0.j         -0.70059909+0.j         -0.70059909-0.j        ]\n",
            " [ 0.72230056+0.j          0.4488226 +0.24174276j  0.4488226 -0.24174276j]]\n"
          ]
        }
      ]
    },
    {
      "cell_type": "code",
      "source": [
        "#Compute the trace and determinant\n",
        "#Note :- trace() is not a function of linear algebra (linalg())\n",
        "\n",
        "a = n.matrix('1,2,3;5,6,7;4,7,8')\n",
        "print(n.trace(a))"
      ],
      "metadata": {
        "colab": {
          "base_uri": "https://localhost:8080/"
        },
        "id": "WA40DKVNQSYU",
        "outputId": "2869d0e8-8b8f-4b6b-bff4-64b4ac4d5ee5"
      },
      "execution_count": 26,
      "outputs": [
        {
          "output_type": "stream",
          "name": "stdout",
          "text": [
            "15\n"
          ]
        }
      ]
    },
    {
      "cell_type": "code",
      "source": [
        "#Inverse/Pseudo Inverse of a matrix\n",
        "\n",
        "# inv() => works with non singular matrix alone and doesnot involve floating point arithmetic\n",
        "a = n.matrix('1,2,3;5,6,7;4,7,8')\n",
        "inv = n.linalg.inv(a)\n",
        "print(inv)\n",
        "\n",
        "# pinv() => works with non singular as well as singular matrix alone and\n",
        "#does involve floating point arithmetic\n",
        "pinv = n.linalg.pinv(a)\n",
        "print(pinv)"
      ],
      "metadata": {
        "colab": {
          "base_uri": "https://localhost:8080/"
        },
        "id": "cyU_CEBFQpAz",
        "outputId": "1c4c1b08-e07c-4187-a3f1-61fa566690fa"
      },
      "execution_count": 28,
      "outputs": [
        {
          "output_type": "stream",
          "name": "stdout",
          "text": [
            "[[-0.125  0.625 -0.5  ]\n",
            " [-1.5   -0.5    1.   ]\n",
            " [ 1.375  0.125 -0.5  ]]\n",
            "[[-0.125  0.625 -0.5  ]\n",
            " [-1.5   -0.5    1.   ]\n",
            " [ 1.375  0.125 -0.5  ]]\n"
          ]
        }
      ]
    },
    {
      "cell_type": "code",
      "source": [
        "#Solve a linear system\n",
        "# solve a linear system in closed form\n",
        "\n",
        "a = n.matrix('1,2,3;5,6,7;4,7,8')\n",
        "y = [1,2,3]\n",
        "\n",
        "c = n.linalg.solve(a,y)\n",
        "print(c)"
      ],
      "metadata": {
        "colab": {
          "base_uri": "https://localhost:8080/"
        },
        "id": "7yryhMVkRsNc",
        "outputId": "0ba4be96-6451-4cd8-8475-09cf92e50236"
      },
      "execution_count": 30,
      "outputs": [
        {
          "output_type": "stream",
          "name": "stdout",
          "text": [
            "[-0.375  0.5    0.125]\n"
          ]
        }
      ]
    },
    {
      "cell_type": "code",
      "source": [
        "#calculate least squares solution\n",
        "\n",
        "a = n.matrix('1,2,3;5,6,7;4,7,8')\n",
        "y = [1,2,4]\n",
        "soln,residuals,rank,singular = n.linalg.lstsq(a,y)\n",
        "print(soln)\n",
        "print(residuals)\n",
        "print(rank)\n",
        "print(singular)"
      ],
      "metadata": {
        "colab": {
          "base_uri": "https://localhost:8080/"
        },
        "id": "1UHyaR2hSBcl",
        "outputId": "b5f1d5c6-7259-4ed5-ef7b-ebad18c0005e"
      },
      "execution_count": 29,
      "outputs": [
        {
          "output_type": "stream",
          "name": "stdout",
          "text": [
            "[-0.875  1.5   -0.375]\n",
            "[]\n",
            "3\n",
            "[15.85540833  1.19486952  0.42227179]\n"
          ]
        },
        {
          "output_type": "stream",
          "name": "stderr",
          "text": [
            "<ipython-input-29-4d4951771b54>:5: FutureWarning: `rcond` parameter will change to the default of machine precision times ``max(M, N)`` where M and N are the input matrix dimensions.\n",
            "To use the future default and silence this warning we advise to pass `rcond=None`, to keep using the old, explicitly pass `rcond=-1`.\n",
            "  soln,residuals,rank,singular = n.linalg.lstsq(a,y)\n"
          ]
        }
      ]
    },
    {
      "cell_type": "code",
      "source": [
        "#Manipulating matrices\n",
        "mat1 = n.matrix('5,6,2;4,7,19;0,3,12')\n",
        "print(\"mat1:\\n\",mat1)\n",
        "\n",
        "mat2 = n.matrix('14,-2,12;4,4,5;5,5,1')\n",
        "print(\"\\nmat2:\\n\",mat2)\n",
        "\n",
        "#Scalar multiplication\n",
        "print(\"\\n\",5*mat1)\n",
        "\n",
        "print(\"\\n\",mat1**3)\n",
        "\n",
        "print(\"\\n\",mat1-mat2)\n",
        "print(\"\\n\",mat1+mat2)"
      ],
      "metadata": {
        "colab": {
          "base_uri": "https://localhost:8080/"
        },
        "id": "dWU_RD13SnfD",
        "outputId": "ff149dde-c9eb-4b46-9d3f-35c117efd7c0"
      },
      "execution_count": 38,
      "outputs": [
        {
          "output_type": "stream",
          "name": "stdout",
          "text": [
            "mat1:\n",
            " [[ 5  6  2]\n",
            " [ 4  7 19]\n",
            " [ 0  3 12]]\n",
            "\n",
            "mat2:\n",
            " [[14 -2 12]\n",
            " [ 4  4  5]\n",
            " [ 5  5  1]]\n",
            "\n",
            " [[25 30 10]\n",
            " [20 35 95]\n",
            " [ 0 15 60]]\n",
            "\n",
            " [[ 557 1284 3356]\n",
            " [ 760 2305 6994]\n",
            " [ 288 1074 3519]]\n",
            "\n",
            " [[ -9   8 -10]\n",
            " [  0   3  14]\n",
            " [ -5  -2  11]]\n",
            "\n",
            " [[19  4 14]\n",
            " [ 8 11 24]\n",
            " [ 5  8 13]]\n"
          ]
        }
      ]
    },
    {
      "cell_type": "code",
      "source": [
        "#Exercise - compute A**2 -2A +3\n",
        "\n",
        "A = n.matrix('1,-1;2,1')\n",
        "print(A)\n",
        "\n",
        "res = A**2 - (2*A)+3\n",
        "print(\"\\n\",res)"
      ],
      "metadata": {
        "colab": {
          "base_uri": "https://localhost:8080/"
        },
        "id": "ytnv0PZ6UOjs",
        "outputId": "7eccb68d-f2ec-4898-8181-28f67ce3364a"
      },
      "execution_count": 42,
      "outputs": [
        {
          "output_type": "stream",
          "name": "stdout",
          "text": [
            "[[ 1 -1]\n",
            " [ 2  1]]\n",
            "\n",
            " [[0 3]\n",
            " [3 0]]\n"
          ]
        }
      ]
    },
    {
      "cell_type": "code",
      "source": [
        "#Exercise Ax = b\n",
        "\n",
        "A = n.matrix('5,6,2;4,7,19;0,3,12')\n",
        "print(A)\n",
        "\n",
        "b = n.matrix('-1;2;1')\n",
        "print(\"\\n\",b)\n",
        "\n",
        "x = n.linalg.solve(A,b)\n",
        "print(\"\\n\",x)\n",
        "\n",
        "print(\"\\n\",A*x)"
      ],
      "metadata": {
        "colab": {
          "base_uri": "https://localhost:8080/"
        },
        "id": "D3OD30_LU0wT",
        "outputId": "ae71bf0d-e931-4ccb-89e4-d879be1f416a"
      },
      "execution_count": 51,
      "outputs": [
        {
          "output_type": "stream",
          "name": "stdout",
          "text": [
            "[[ 5  6  2]\n",
            " [ 4  7 19]\n",
            " [ 0  3 12]]\n",
            "\n",
            " [[-1]\n",
            " [ 2]\n",
            " [ 1]]\n",
            "\n",
            " [[ 0.45736434]\n",
            " [-0.62790698]\n",
            " [ 0.24031008]]\n",
            "\n",
            " [[-1.]\n",
            " [ 2.]\n",
            " [ 1.]]\n"
          ]
        }
      ]
    },
    {
      "cell_type": "code",
      "source": [
        "#Exercise Bx = b\n",
        "\n",
        "B = n.matrix('5,6,2;4,7,19;0,3,12')\n",
        "print(B)\n",
        "\n",
        "b = n.matrix('4;5;6')\n",
        "print(\"\\n\",b)\n",
        "\n",
        "x = n.linalg.solve(B,b)\n",
        "print(\"\\n\",x)\n",
        "\n",
        "print(\"\\n\",B*x)"
      ],
      "metadata": {
        "colab": {
          "base_uri": "https://localhost:8080/"
        },
        "id": "gErPEnV7WJBT",
        "outputId": "dcbd9700-2253-4ccf-ff53-70246229ca0a"
      },
      "execution_count": 52,
      "outputs": [
        {
          "output_type": "stream",
          "name": "stdout",
          "text": [
            "[[ 5  6  2]\n",
            " [ 4  7 19]\n",
            " [ 0  3 12]]\n",
            "\n",
            " [[4]\n",
            " [5]\n",
            " [6]]\n",
            "\n",
            " [[-2.93023256]\n",
            " [ 3.20930233]\n",
            " [-0.30232558]]\n",
            "\n",
            " [[4.]\n",
            " [5.]\n",
            " [6.]]\n"
          ]
        }
      ]
    },
    {
      "cell_type": "code",
      "source": [
        "#exercise A**-1 A = 1\n",
        "\n",
        "A = n.matrix('5,6,2;4,7,19;0,3,12')\n",
        "print(A)\n",
        "\n",
        "Ainv = n.linalg.inv(A)\n",
        "print(\"\\n\",Ainv)\n",
        "\n",
        "print(\"\\n\",A*Ainv)\n"
      ],
      "metadata": {
        "colab": {
          "base_uri": "https://localhost:8080/"
        },
        "id": "mFT-ky-KWrr7",
        "outputId": "340ffb8a-1768-41b1-eb61-dc53b249d2d2"
      },
      "execution_count": 53,
      "outputs": [
        {
          "output_type": "stream",
          "name": "stdout",
          "text": [
            "[[ 5  6  2]\n",
            " [ 4  7 19]\n",
            " [ 0  3 12]]\n",
            "\n",
            " [[-0.20930233  0.51162791 -0.7751938 ]\n",
            " [ 0.37209302 -0.46511628  0.6744186 ]\n",
            " [-0.09302326  0.11627907 -0.08527132]]\n",
            "\n",
            " [[ 1.00000000e+00  4.99600361e-16 -4.71844785e-16]\n",
            " [ 1.38777878e-16  1.00000000e+00 -2.63677968e-16]\n",
            " [ 1.11022302e-16  1.11022302e-16  1.00000000e+00]]\n"
          ]
        }
      ]
    },
    {
      "cell_type": "code",
      "source": [
        "#Exercise => solve the system of equations\n",
        "\n",
        "# x+y+z = 9, 2x-y+z = 5, 4x+y-z = 7\n",
        "\n",
        "A = n.matrix('1,1,1;2,-1,1;4,1,-1')\n",
        "print(A)\n",
        "\n",
        "b = n.matrix('9;5;7')\n",
        "print(\"\\n\",b)\n",
        "\n",
        "res = n.linalg.solve(A,b)\n",
        "print(\"\\n\",res)\n",
        "\n",
        "print(\"\\n\",A*res)"
      ],
      "metadata": {
        "colab": {
          "base_uri": "https://localhost:8080/"
        },
        "id": "LRBOVi2OXIOc",
        "outputId": "65c7a576-58f5-4145-a1c2-17bfd594eba1"
      },
      "execution_count": 56,
      "outputs": [
        {
          "output_type": "stream",
          "name": "stdout",
          "text": [
            "[[ 1  1  1]\n",
            " [ 2 -1  1]\n",
            " [ 4  1 -1]]\n",
            "\n",
            " [[9]\n",
            " [5]\n",
            " [7]]\n",
            "\n",
            " [[2.]\n",
            " [3.]\n",
            " [4.]]\n",
            "\n",
            " [[9.]\n",
            " [5.]\n",
            " [7.]]\n"
          ]
        }
      ]
    },
    {
      "cell_type": "code",
      "source": [
        "#Exercise => solve the system of equations\n",
        "# 2x+y+2z = 0, 2x-y+z = 10, x+3y-z = 5\n",
        "\n",
        "A = n.array([(2,1,2),(2,-1,1),(1,3,-1)])\n",
        "print(A)\n",
        "\n",
        "b = n.matrix([\n",
        "            [(0)],\n",
        "             [(10)],\n",
        "              [(5)]\n",
        "            ])\n",
        "print(\"\\n\",b)\n",
        "\n",
        "c = n.linalg.solve(A,b)\n",
        "print(\"\\n\",c)\n",
        "\n",
        "print(\"\\n\",A*c)"
      ],
      "metadata": {
        "colab": {
          "base_uri": "https://localhost:8080/"
        },
        "id": "Ky6oEMD0X3Pr",
        "outputId": "b1f1a0d6-d10f-4775-b71f-d544ebfa9164"
      },
      "execution_count": 68,
      "outputs": [
        {
          "output_type": "stream",
          "name": "stdout",
          "text": [
            "[[ 2  1  2]\n",
            " [ 2 -1  1]\n",
            " [ 1  3 -1]]\n",
            "\n",
            " [[ 0]\n",
            " [10]\n",
            " [ 5]]\n",
            "\n",
            " [[ 6.53846154]\n",
            " [-2.30769231]\n",
            " [-5.38461538]]\n",
            "\n",
            " [[1.77635684e-15]\n",
            " [1.00000000e+01]\n",
            " [5.00000000e+00]]\n"
          ]
        }
      ]
    },
    {
      "cell_type": "code",
      "source": [
        "#Exercise least squares\n",
        "A = n.matrix('0,1;1,1;2,1')\n",
        "print(A)\n",
        "\n",
        "b = n.matrix('6;0;0')\n",
        "print(\"\\n\",b)\n",
        "\n",
        "soln,residuals,rank,singular = n.linalg.lstsq(A,b)\n",
        "print(\"\\n\",soln)\n",
        "print(\"\\n\",residuals)\n",
        "print(\"\\n\",rank)\n",
        "print(\"\\n\",singular)\n"
      ],
      "metadata": {
        "colab": {
          "base_uri": "https://localhost:8080/"
        },
        "id": "yme8isAAYbiT",
        "outputId": "7826e8e3-c8d3-492c-886b-5d504302036c"
      },
      "execution_count": 59,
      "outputs": [
        {
          "output_type": "stream",
          "name": "stdout",
          "text": [
            "[[0 1]\n",
            " [1 1]\n",
            " [2 1]]\n",
            "\n",
            " [[6]\n",
            " [0]\n",
            " [0]]\n",
            "\n",
            " [[-3.]\n",
            " [ 5.]]\n",
            "\n",
            " [[6.]]\n",
            "\n",
            " 2\n",
            "\n",
            " [2.6762432  0.91527173]\n"
          ]
        },
        {
          "output_type": "stream",
          "name": "stderr",
          "text": [
            "<ipython-input-59-6e72e111c227>:7: FutureWarning: `rcond` parameter will change to the default of machine precision times ``max(M, N)`` where M and N are the input matrix dimensions.\n",
            "To use the future default and silence this warning we advise to pass `rcond=None`, to keep using the old, explicitly pass `rcond=-1`.\n",
            "  soln,residuals,rank,singular = n.linalg.lstsq(A,b)\n"
          ]
        }
      ]
    },
    {
      "cell_type": "code",
      "source": [
        "#Exercise => solve the system of equations\n",
        "\n",
        "# x-y+z = 4, 2x+y-3z = 0, x+y-z = 2\n",
        "\n",
        "A = n.matrix('1,-1,1;2,1,-3;1,1,-1')\n",
        "print(A)\n",
        "\n",
        "b = n.matrix('4;0;2')\n",
        "print(\"\\n\",b)\n",
        "\n",
        "res = n.linalg.solve(A,b)\n",
        "print(\"\\n\",res)\n",
        "\n",
        "print(\"\\n\",A*res)"
      ],
      "metadata": {
        "colab": {
          "base_uri": "https://localhost:8080/"
        },
        "id": "zbdyGaKQbimj",
        "outputId": "1800a36d-530e-4d7e-dd45-766ef6b372d2"
      },
      "execution_count": 69,
      "outputs": [
        {
          "output_type": "stream",
          "name": "stdout",
          "text": [
            "[[ 1 -1  1]\n",
            " [ 2  1 -3]\n",
            " [ 1  1 -1]]\n",
            "\n",
            " [[4]\n",
            " [0]\n",
            " [2]]\n",
            "\n",
            " [[3. ]\n",
            " [1.5]\n",
            " [2.5]]\n",
            "\n",
            " [[4.0000000e+00]\n",
            " [4.4408921e-16]\n",
            " [2.0000000e+00]]\n"
          ]
        }
      ]
    }
  ]
}